{
 "cells": [
  {
   "cell_type": "markdown",
   "source": [
    "# Audio classification\n",
    "\n",
    "We have a set of voice recordings from different people. We need to get these classified according to the speaker’s gender. We ask performers to listen to the recordings and decide whether it is a man or a woman speaking."
   ],
   "metadata": {}
  },
  {
   "cell_type": "markdown",
   "metadata": {},
   "source": [
    "To get acquainted with Toloka tools for free, you can use the promo code **TOLOKAKIT1** on $20 on your [profile page](https://toloka.yandex.com/requester/profile) after registration. "
   ]
  },
  {
   "cell_type": "markdown",
   "source": [
    "Prepare environment and import all we'll need."
   ],
   "metadata": {}
  },
  {
   "cell_type": "code",
   "execution_count": null,
   "source": [
    "!pip install toloka-kit==0.1.11\n",
    "!pip install crowd-kit==0.0.5\n",
    "!pip install pandas\n",
    "\n",
    "import datetime\n",
    "import sys\n",
    "import time\n",
    "import logging\n",
    "\n",
    "import pandas\n",
    "import numpy as np\n",
    "\n",
    "import toloka.client as toloka\n",
    "import toloka.client.project.template_builder as tb\n",
    "from crowdkit.aggregation import DawidSkene\n",
    "\n",
    "logging.basicConfig(\n",
    "    format='[%(levelname)s] %(name)s: %(message)s',\n",
    "    level=logging.INFO,\n",
    "    stream=sys.stdout,\n",
    ")"
   ],
   "outputs": [],
   "metadata": {}
  },
  {
   "cell_type": "markdown",
   "source": [
    "Сreate toloka-client instance. All api calls will go through it. More about OAuth token in our [Learn the basics example](https://github.com/Toloka/toloka-kit/tree/main/examples/0.getting_started/0.learn_the_basics) [![Open In Colab](https://colab.research.google.com/assets/colab-badge.svg)](https://colab.research.google.com/github/Toloka/toloka-kit/blob/main/examples/0.getting_started/0.learn_the_basics/learn_the_basics.ipynb)"
   ],
   "metadata": {}
  },
  {
   "cell_type": "code",
   "execution_count": null,
   "source": [
    "toloka_client = toloka.TolokaClient(input(\"Enter your token:\"), 'PRODUCTION')  # Or switch to 'SANDBOX'\n",
    "print(toloka_client.get_requester())"
   ],
   "outputs": [],
   "metadata": {}
  },
  {
   "cell_type": "markdown",
   "source": [
    "## Create a project\n",
    "Enter a clear project name and description.\n",
    "> Note: The project name and description will be visible to the performers."
   ],
   "metadata": {}
  },
  {
   "cell_type": "code",
   "execution_count": null,
   "source": [
    "project = toloka.Project(\n",
    "    public_name='Is it a male or female speaker?',\n",
    "    public_description='Listen to the audio and determine if it is a male or female speaker.',\n",
    ")"
   ],
   "outputs": [],
   "metadata": {}
  },
  {
   "cell_type": "markdown",
   "source": [
    "Create task interface.\n",
    "> Check the [Interface section](https://toloka.ai/knowledgebase/interface) of our Knowledge Base for more tips on interface design."
   ],
   "metadata": {}
  },
  {
   "cell_type": "code",
   "execution_count": null,
   "source": [
    "audio_viewer = tb.AudioViewV1(\n",
    "    tb.InputData('path'),\n",
    "    validation=tb.PlayedConditionV1(hint='you need to listen to the audio'),\n",
    ")\n",
    "\n",
    "radio_group_field = tb.ButtonRadioGroupFieldV1(\n",
    "    tb.OutputData('result'),\n",
    "    [\n",
    "        tb.GroupFieldOption('female', 'Female'),\n",
    "        tb.GroupFieldOption('male', 'Male'),\n",
    "    ],\n",
    "    label='Is it a male or female speaker?',\n",
    "    validation=tb.RequiredConditionV1(),\n",
    ")\n",
    "\n",
    "task_width_plugin = tb.TolokaPluginV1(\n",
    "    layout=tb.TolokaPluginV1.TolokaPluginLayout(\n",
    "        kind='scroll', \n",
    "        task_width=300,\n",
    "    )\n",
    ")\n",
    "\n",
    "hot_keys_plugin = tb.HotkeysPluginV1(\n",
    "    key_1=tb.SetActionV1(tb.OutputData('result'), 'female'),\n",
    "    key_2=tb.SetActionV1(tb.OutputData('result'), 'male'),\n",
    ")\n",
    "\n",
    "project_interface = toloka.project.TemplateBuilderViewSpec(\n",
    "    view=tb.ListViewV1([audio_viewer, radio_group_field]),\n",
    "    plugins=[task_width_plugin, hot_keys_plugin],\n",
    ")"
   ],
   "outputs": [],
   "metadata": {}
  },
  {
   "cell_type": "markdown",
   "source": [
    "For performers, our interface will look like this.\n",
    "\n",
    "<table  align=\"center\">\n",
    "  <tr><td>\n",
    "    <img src=\"./img/tasks_preview.png\"\n",
    "         alt=\"Task page\"  width=\"1000\">\n",
    "  </td></tr>\n",
    "  <tr><td align=\"center\">\n",
    "    <b>Figure 1.</b> What the task page can looks like.\n",
    "  </td></tr>\n",
    "</table>"
   ],
   "metadata": {}
  },
  {
   "cell_type": "markdown",
   "source": [
    "Specifications are a description of input data that will be used in a project and the output data that will be collected from the performers.\n",
    "\n",
    "> Read more about [input and output data specifications](https://yandex.ru/support/toloka-tb/operations/create-specs.html?lang=en) in the Requester’s Guide."
   ],
   "metadata": {}
  },
  {
   "cell_type": "code",
   "execution_count": null,
   "source": [
    "input_specification = {'path': toloka.project.UrlSpec()}\n",
    "output_specification = {'result': toloka.project.StringSpec()}\n",
    "\n",
    "project.task_spec = toloka.project.task_spec.TaskSpec(\n",
    "    input_spec=input_specification,\n",
    "    output_spec=output_specification,\n",
    "    view_spec=project_interface,\n",
    ")"
   ],
   "outputs": [],
   "metadata": {}
  },
  {
   "cell_type": "markdown",
   "source": [
    "Write comprehensive instructions.\n",
    "> Get more tips on [designing instructions](https://toloka.ai/knowledgebase/instruction) in our Knowledge Base."
   ],
   "metadata": {}
  },
  {
   "cell_type": "code",
   "execution_count": null,
   "source": [
    "project.public_instructions = \"\"\"Listen to the short audio clip and determine whether it is a male or female speaking.\"\"\""
   ],
   "outputs": [],
   "metadata": {}
  },
  {
   "cell_type": "markdown",
   "source": [
    "Create a project."
   ],
   "metadata": {}
  },
  {
   "cell_type": "code",
   "execution_count": null,
   "source": [
    "project = toloka_client.create_project(project)"
   ],
   "outputs": [],
   "metadata": {}
  },
  {
   "cell_type": "markdown",
   "source": [
    "## Preparing data\n",
    "This example uses [EmoV-DB dataset](https://github.com/numediart/EmoV-DB).\n",
    "\n",
    "BibTex:\n",
    "```\n",
    "@article{adigwe2018emotional,\n",
    "  title={The emotional voices database: Towards controlling the emotion dimension in voice generation systems},\n",
    "  author={Adigwe, Adaeze and Tits, No{\\'e} and Haddad, Kevin El and Ostadabbas, Sarah and Dutoit, Thierry},\n",
    "  journal={arXiv preprint arXiv:1806.09514},\n",
    "  year={2018}\n",
    "}\n",
    "```\n",
    "\n",
    "Let's load this dataset and split it into two parts."
   ],
   "metadata": {}
  },
  {
   "cell_type": "code",
   "execution_count": 36,
   "source": [
    "!curl https://tlk.s3.yandex.net/ext_dataset/emov-db-mp3/emov_db.tsv --output dataset.csv\n",
    "\n",
    "dataset = pandas.read_csv('dataset.csv', sep='\\t')\n",
    "print(dataset)\n",
    "\n",
    "dataset = dataset.sample(frac=1).reset_index(drop=True)\n",
    "golden_dataset, main_dataset, _ = np.split(dataset, [20, 120], axis=0)\n",
    "\n",
    "print(f'\\ngolden_dataset - {len(golden_dataset)}')\n",
    "print(f'\\nmain_dataset - {len(main_dataset)}')"
   ],
   "outputs": [
    {
     "output_type": "stream",
     "name": "stdout",
     "text": [
      "  % Total    % Received % Xferd  Average Speed   Time    Time     Time  Current\n",
      "                                 Dload  Upload   Total   Spent    Left  Speed\n",
      "100 1038k  100 1038k    0     0  2740k      0 --:--:-- --:--:-- --:--:-- 2740k\n",
      "      emotion speaker     sex  \\\n",
      "0      Amused   jenie  female   \n",
      "1      Amused   jenie  female   \n",
      "2      Amused   jenie  female   \n",
      "3      Amused   jenie  female   \n",
      "4      Amused   jenie  female   \n",
      "...       ...     ...     ...   \n",
      "6888  Neutral    josh    male   \n",
      "6889  Neutral    josh    male   \n",
      "6890  Neutral    josh    male   \n",
      "6891  Neutral    josh    male   \n",
      "6892  Neutral    josh    male   \n",
      "\n",
      "                                                 phrase  \\\n",
      "0                      I had forgotten their existence.   \n",
      "1     His outstretched arm dropped to his side, and ...   \n",
      "2                    He spat it out like so much venom.   \n",
      "3     A big canvas tent was the first thing to come ...   \n",
      "4                   Gad, your letter came just in time.   \n",
      "...                                                 ...   \n",
      "6888  This tacit promise of continued acquaintance g...   \n",
      "6889                            From now on we're pals.   \n",
      "6890  To my surprise he began to show actual enthusi...   \n",
      "6891  If I ever needed a fighter in my life I need o...   \n",
      "6892          A shadow was creeping over Pierre's eyes.   \n",
      "\n",
      "                                                    url  \n",
      "0     https://tlk.s3.yandex.net/ext_dataset/emov-db-...  \n",
      "1     https://tlk.s3.yandex.net/ext_dataset/emov-db-...  \n",
      "2     https://tlk.s3.yandex.net/ext_dataset/emov-db-...  \n",
      "3     https://tlk.s3.yandex.net/ext_dataset/emov-db-...  \n",
      "4     https://tlk.s3.yandex.net/ext_dataset/emov-db-...  \n",
      "...                                                 ...  \n",
      "6888  https://tlk.s3.yandex.net/ext_dataset/emov-db-...  \n",
      "6889  https://tlk.s3.yandex.net/ext_dataset/emov-db-...  \n",
      "6890  https://tlk.s3.yandex.net/ext_dataset/emov-db-...  \n",
      "6891  https://tlk.s3.yandex.net/ext_dataset/emov-db-...  \n",
      "6892  https://tlk.s3.yandex.net/ext_dataset/emov-db-...  \n",
      "\n",
      "[6893 rows x 5 columns]\n",
      "\n",
      "golden_dataset - 20\n",
      "\n",
      "main_dataset - 100\n"
     ]
    }
   ],
   "metadata": {}
  },
  {
   "cell_type": "markdown",
   "source": [
    "## Create the main pool\n",
    "A pool is a set of paid tasks grouped into task pages. These tasks are sent out for completion at the same time. \n",
    "\n",
    ">Note: All tasks within a pool have the same settings (price, quality control, etc.)\n",
    "\n",
    "Audio classification tasks are normally paid as basic tasks (e.g. binary classification) because these tasks do not take much time. Read more about [pricing principles](https://toloka.ai/knowledgebase/pricing) in our Knowledge Base.\n",
    "\n",
    "Sets an overlap of 3 to get a more confident final label. To understand [how this rule works](https://yandex.com/support/toloka-requester/concepts/mvote.html), go to the Requester’s Guide.\n",
    "\n",
    "Let's add language filter so performers who speak English will be invited to complete this task. Then choose Toloka web version and Toloka for mobile clients. These filters will make it possible for performers to complete your task on their computers or mobile devices."
   ],
   "metadata": {}
  },
  {
   "cell_type": "code",
   "execution_count": null,
   "source": [
    "pool = toloka.Pool(\n",
    "    project_id=project.id,\n",
    "    # Give the pool any convenient name. You are the only one who will see it.\n",
    "    private_name='Is it a male or female speaker',\n",
    "    may_contain_adult_content=False,\n",
    "    # Set the price per task page.\n",
    "    reward_per_assignment=0.01,\n",
    "    will_expire=datetime.datetime.utcnow() + datetime.timedelta(days=365),\n",
    "    # Overlap. This is the number of users who will complete the same task.\n",
    "    defaults=toloka.Pool.Defaults(default_overlap_for_new_task_suites=3),\n",
    "    # Time allowed for completing a task page\n",
    "    assignment_max_duration_seconds=1200,\n",
    "    filter=(\n",
    "        (toloka.filter.Languages.in_('EN')) &\n",
    "        (\n",
    "            (toloka.filter.ClientType == 'TOLOKA_APP') | \n",
    "            (toloka.filter.ClientType == 'BROWSER')\n",
    "        )\n",
    "    ),\n",
    ")"
   ],
   "outputs": [],
   "metadata": {}
  },
  {
   "cell_type": "markdown",
   "source": [
    "Set up [Quality control](https://yandex.com/support/toloka-requester/concepts/control.html):\n",
    "  - Ban performers who give incorrect responses to control tasks. Since tasks such as these have an answer that can be used as ground truth, we can use standard quality control rules like golden sets.\n",
    "\n",
    "Read more about [quality control principles](https://toloka.ai/knowledgebase/quality-control) in our Knowledge Base or check out [control tasks settings](https://yandex.com/support/toloka-requester/concepts/goldenset.html) in the Requester’s Guide."
   ],
   "metadata": {}
  },
  {
   "cell_type": "code",
   "execution_count": null,
   "source": [
    "pool.quality_control.add_action(\n",
    "    collector=toloka.collectors.GoldenSet(history_size=10),\n",
    "    conditions=[\n",
    "        toloka.conditions.GoldenSetCorrectAnswersRate <= 80.0,\n",
    "        toloka.conditions.GoldenSetAnswersCount >= 1\n",
    "    ],\n",
    "    action=toloka.actions.RestrictionV2(\n",
    "        scope='POOL',\n",
    "        duration=3,\n",
    "        duration_unit='DAYS',\n",
    "        private_comment='bad quality'\n",
    "    )\n",
    ")"
   ],
   "outputs": [],
   "metadata": {}
  },
  {
   "cell_type": "markdown",
   "source": [
    "Specify\tthe number of tasks per page. We recommend putting as many tasks on one page as a performer can complete in 1 to 5 minutes. That way, performers are less likely to get tired, and they won’t lose a significant amount of data if a technical issue occurs.\n",
    "\n",
    "To learn more about [grouping tasks](https://yandex.com/support/search-results/?service=toloka-requester&query=smart+mixing) into suites, read the Requester’s Guide. "
   ],
   "metadata": {}
  },
  {
   "cell_type": "code",
   "execution_count": null,
   "source": [
    "pool.set_mixer_config(\n",
    "    real_tasks_count=4,\n",
    "    golden_tasks_count=1,\n",
    ")"
   ],
   "outputs": [],
   "metadata": {}
  },
  {
   "cell_type": "markdown",
   "source": [
    "Create pool"
   ],
   "metadata": {}
  },
  {
   "cell_type": "code",
   "execution_count": null,
   "source": [
    "pool = toloka_client.create_pool(pool)"
   ],
   "outputs": [],
   "metadata": {}
  },
  {
   "cell_type": "markdown",
   "source": [
    "## Preparing and uploading tasks\n",
    "\n",
    "> Note: Control tasks are tasks that already contain the correct response. They are used for checking the quality of responses from performers. The performer's response is compared to the response you provided. If they match, it means the performer answered correctly.`"
   ],
   "metadata": {}
  },
  {
   "cell_type": "code",
   "execution_count": null,
   "source": [
    "golden_tasks = [\n",
    "    toloka.task.Task(\n",
    "        pool_id=pool.id,\n",
    "        input_values={'path': row['url']},\n",
    "        known_solutions = [\n",
    "            toloka.task.BaseTask.KnownSolution(\n",
    "                output_values={'result': row['sex']}\n",
    "            )\n",
    "        ],\n",
    "        infinite_overlap=True,\n",
    "    )\n",
    "    for _, row in golden_dataset.iterrows()\n",
    "]\n",
    "tasks = [\n",
    "    toloka.task.Task(\n",
    "        pool_id=pool.id,\n",
    "        input_values={'path': row['url']},\n",
    "    )\n",
    "    for _, row in main_dataset.iterrows()\n",
    "]\n",
    "created_tasks = toloka_client.create_tasks(golden_tasks + tasks, allow_defaults=True)\n",
    "print(len(created_tasks.items))"
   ],
   "outputs": [],
   "metadata": {}
  },
  {
   "cell_type": "markdown",
   "source": [
    "Start the pool.\n",
    "\n",
    "**Important.** Remember that real Toloka performers will complete the tasks.\n",
    "Double check that everything is correct\n",
    "with your project configuration before you start the pool"
   ],
   "metadata": {}
  },
  {
   "cell_type": "code",
   "execution_count": null,
   "source": [
    "pool = toloka_client.open_pool(pool.id)\n",
    "print(pool.status)"
   ],
   "outputs": [],
   "metadata": {}
  },
  {
   "cell_type": "markdown",
   "source": [
    "## Receiving responses"
   ],
   "metadata": {}
  },
  {
   "cell_type": "markdown",
   "source": [
    "Wait until the pool is completed."
   ],
   "metadata": {}
  },
  {
   "cell_type": "code",
   "execution_count": null,
   "source": [
    "pool_id = pool.id\n",
    "\n",
    "def wait_pool_for_close(pool_id, minutes_to_wait=1):\n",
    "    sleep_time = 60 * minutes_to_wait\n",
    "    pool = toloka_client.get_pool(pool_id)\n",
    "    while not pool.is_closed():\n",
    "        op = toloka_client.get_analytics([toloka.analytics_request.CompletionPercentagePoolAnalytics(subject_id=pool.id)])\n",
    "        op = toloka_client.wait_operation(op)\n",
    "        percentage = op.details['value'][0]['result']['value']\n",
    "        print(\n",
    "            f'   {datetime.datetime.now().strftime(\"%H:%M:%S\")}\\t'\n",
    "            f'Pool {pool.id} - {percentage}%'\n",
    "        )\n",
    "        time.sleep(sleep_time)\n",
    "        pool = toloka_client.get_pool(pool.id)\n",
    "    print('Pool was closed.')\n",
    "\n",
    "wait_pool_for_close(pool_id)"
   ],
   "outputs": [],
   "metadata": {}
  },
  {
   "cell_type": "markdown",
   "source": [
    "Get responses\n",
    "\n",
    "When all the tasks are completed, look at the responses from performers."
   ],
   "metadata": {}
  },
  {
   "cell_type": "code",
   "execution_count": null,
   "source": [
    "answers = []\n",
    "\n",
    "for assignment in toloka_client.get_assignments(pool_id=pool_id, status='ACCEPTED'):\n",
    "    for task, solution in zip(assignment.tasks, assignment.solutions):\n",
    "        if not task.known_solutions:\n",
    "            answers.append([task.input_values['path'], solution.output_values['result'], assignment.user_id])\n",
    "\n",
    "print(f'answers count: {len(answers)}')"
   ],
   "outputs": [],
   "metadata": {}
  },
  {
   "cell_type": "markdown",
   "source": [
    "Aggregation results using the Dawid-Skene model. We use this aggregation model because our questions are of comparable difficulty, and we don't have many control tasks.\n",
    "\n",
    "Read more about the [Dawid-Skene model](https://yandex.com/support/toloka-requester/concepts/result-aggregation.html#aggr__dawid-skene) in the Requester’s Guide or get at an overview of different [aggregation models](https://toloka.ai/knowledgebase/aggregation) our Knowledge Base.\n",
    "\n",
    "More aggregation models in [Crowd-Kit](https://github.com/Toloka/crowd-kit#crowd-kit-computational-quality-control-for-crowdsourcing)."
   ],
   "metadata": {}
  },
  {
   "cell_type": "code",
   "execution_count": null,
   "source": [
    "# Prepare dataframe\n",
    "answers_df = pandas.DataFrame(answers, columns=['task', 'label', 'performer'])\n",
    "# Run aggregation\n",
    "predicted_answers = DawidSkene(n_iter=20).fit_predict(answers_df)\n",
    "\n",
    "print(predicted_answers)"
   ],
   "outputs": [],
   "metadata": {}
  }
 ],
 "metadata": {
  "kernelspec": {
   "display_name": "Python 3",
   "language": "python",
   "name": "python3"
  }
 },
 "nbformat": 4,
 "nbformat_minor": 4
}
