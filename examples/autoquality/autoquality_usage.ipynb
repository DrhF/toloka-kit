{
 "cells": [
  {
   "cell_type": "markdown",
   "id": "cf2b8250",
   "metadata": {},
   "source": [
    "# AutoQuality\n",
    "\n",
    "This example illustrates how to use `toloka.autoquality` module. AutoQuality is a tool to help set up quality control for Toloka project."
   ]
  },
  {
   "cell_type": "code",
   "execution_count": null,
   "id": "94672aa7",
   "metadata": {},
   "outputs": [],
   "source": [
    "!pip install toloka-kit[autoquality]==0.1.26"
   ]
  },
  {
   "cell_type": "code",
   "execution_count": null,
   "id": "15ff8bec",
   "metadata": {},
   "outputs": [],
   "source": [
    "import logging\n",
    "import sys\n",
    "\n",
    "logging.basicConfig(\n",
    "    format='[%(levelname)s] %(name)s: %(message)s',\n",
    "    level=logging.INFO,\n",
    "    stream=sys.stdout,\n",
    ")"
   ]
  },
  {
   "cell_type": "code",
   "execution_count": null,
   "id": "61f470aa",
   "metadata": {},
   "outputs": [],
   "source": [
    "import toloka.client as toloka\n",
    "import toloka.client.project.template_builder as tb\n",
    "from toloka.autoquality import AutoQuality\n",
    "\n",
    "import datetime\n",
    "import numpy as np\n",
    "import os\n",
    "import requests\n",
    "import pandas as pd\n",
    "from tqdm import tqdm"
   ]
  },
  {
   "cell_type": "markdown",
   "id": "38065cfd",
   "metadata": {},
   "source": [
    "In this example we will use a dataset for binary text classification."
   ]
  },
  {
   "cell_type": "code",
   "execution_count": null,
   "id": "759b152d",
   "metadata": {},
   "outputs": [],
   "source": [
    "N_ROWS = 1000\n",
    "\n",
    "def sample_stratified(df, label_column, n_rows):\n",
    "    \"\"\"Function to sample n_rows from a dataframe while presenving class distribution\"\"\"\n",
    "    return df.groupby(label_column, group_keys=False) \\\n",
    "            .apply(lambda x: x.sample(int(np.rint(n_rows*len(x)/len(df))))) \\\n",
    "            .sample(frac=1)\n",
    "\n",
    "base_url = 'https://tlk.s3.yandex.net/ext_dataset/aclImdb'\n",
    "df = pd.read_csv(os.path.join(base_url, 'test.csv'))\n",
    "df_control = sample_stratified(df, 'label', n_rows=1000)\n",
    "df = df.drop(df_control.index)\n",
    "df = sample_stratified(df, 'label', n_rows=N_ROWS)\n",
    "\n",
    "df_control = df_control.reset_index(drop=True)\n",
    "df = df.reset_index(drop=True)\n",
    "df.head()"
   ]
  },
  {
   "cell_type": "code",
   "execution_count": null,
   "id": "9d39df9c",
   "metadata": {},
   "outputs": [],
   "source": [
    "df.label.value_counts()"
   ]
  },
  {
   "cell_type": "code",
   "execution_count": null,
   "id": "13f66ff5",
   "metadata": {},
   "outputs": [],
   "source": [
    "def load_texts(urls):\n",
    "    texts = []\n",
    "    for url in tqdm(urls):\n",
    "        resp = requests.get(url)\n",
    "        texts.append(resp.text)\n",
    "    return texts\n",
    "\n",
    "df['text'] = load_texts(base_url + '/' + df.path)\n",
    "df_control['text'] =  load_texts(base_url + '/' + df_control.path)"
   ]
  },
  {
   "cell_type": "markdown",
   "id": "6cf7337c",
   "metadata": {},
   "source": [
    "Let's create an appropriate Toloka project, a training pool and a base pool(a pool with a basic settings that will be cloned by autoquality)"
   ]
  },
  {
   "cell_type": "code",
   "execution_count": null,
   "id": "ad0893b0",
   "metadata": {},
   "outputs": [],
   "source": [
    "token = input(\"Enter your token:\")\n",
    "toloka_client = toloka.TolokaClient(token, 'PRODUCTION')"
   ]
  },
  {
   "cell_type": "code",
   "execution_count": null,
   "id": "f802f9a5",
   "metadata": {},
   "outputs": [],
   "source": [
    "project = toloka.Project(\n",
    "    public_name='Movie review classification',\n",
    "    public_description='Classify sentiment of movie reviews',\n",
    "    private_comment='Auto quality control optimization experiments',\n",
    ")\n",
    "input_specification = {'text': toloka.project.StringSpec()}\n",
    "output_specification = {'result': toloka.project.StringSpec()}"
   ]
  },
  {
   "cell_type": "code",
   "execution_count": null,
   "id": "965eb4b6",
   "metadata": {},
   "outputs": [],
   "source": [
    "text_viewer = tb.TextViewV1(tb.InputData('text'))\n",
    "\n",
    "radio_group_field = tb.ButtonRadioGroupFieldV1(\n",
    "    tb.OutputData('result'),\n",
    "    [\n",
    "        tb.GroupFieldOption('pos', '😃 Positive'),\n",
    "        tb.GroupFieldOption('neg', '😡 Negative'),\n",
    "    ],\n",
    "    label='What is the review sentiment?',\n",
    "    validation=tb.RequiredConditionV1(hint='You need to select one answer'),\n",
    ")\n",
    "\n",
    "task_width_plugin = tb.TolokaPluginV1(\n",
    "    layout=tb.TolokaPluginV1.TolokaPluginLayout(\n",
    "        kind='pager', \n",
    "        task_width=500,\n",
    "    )\n",
    ")\n",
    "\n",
    "hot_keys_plugin = tb.HotkeysPluginV1(\n",
    "    key_1=tb.SetActionV1(tb.OutputData('result'), 'pos'),\n",
    "    key_2=tb.SetActionV1(tb.OutputData('result'), 'neg'),\n",
    ")\n",
    "\n",
    "project_interface = toloka.project.TemplateBuilderViewSpec(\n",
    "    view=tb.ListViewV1([radio_group_field, text_viewer]),\n",
    "    plugins=[task_width_plugin, hot_keys_plugin],\n",
    ")\n",
    "\n",
    "project.task_spec = toloka.project.task_spec.TaskSpec(\n",
    "    input_spec=input_specification,\n",
    "    output_spec=output_specification,\n",
    "    view_spec=project_interface,\n",
    ")"
   ]
  },
  {
   "cell_type": "code",
   "execution_count": null,
   "id": "4aadf91c",
   "metadata": {},
   "outputs": [],
   "source": [
    "project.public_instructions = \"\"\"\n",
    "<h2>How to complete the task</h2>\n",
    "<ul>\n",
    "<li>1. Look at the movie review text.</li>\n",
    "<li>2. If it seems 😃 positive, assign the positive label. Otherwise assign the 😡 negative label.</li>\n",
    "<li>3. If you are unsure choose the label that seems most appropriate.</li>\n",
    "</ul>\n",
    "\n",
    "In case of problems send us a message. Good luck!\n",
    "\"\"\".strip()"
   ]
  },
  {
   "cell_type": "code",
   "execution_count": null,
   "id": "a36cd7f6",
   "metadata": {},
   "outputs": [],
   "source": [
    "project = toloka_client.create_project(project)"
   ]
  },
  {
   "cell_type": "code",
   "execution_count": null,
   "id": "a984acc8",
   "metadata": {},
   "outputs": [],
   "source": [
    "training_pool = toloka.training.Training(project_id=project.id,\n",
    "    private_name='Training pool',  \n",
    "    training_tasks_in_task_suite_count=5, \n",
    "    task_suites_required_to_pass=1,\n",
    "    may_contain_adult_content=False,\n",
    "    inherited_instructions=True,\n",
    "    assignment_max_duration_seconds=60*5,\n",
    "    retry_training_after_days=5,\n",
    "    mix_tasks_in_creation_order=True,\n",
    "    shuffle_tasks_in_task_suite=True,\n",
    ")"
   ]
  },
  {
   "cell_type": "code",
   "execution_count": null,
   "id": "90777897",
   "metadata": {},
   "outputs": [],
   "source": [
    "training_pool = toloka_client.create_training(training_pool)"
   ]
  },
  {
   "cell_type": "code",
   "execution_count": null,
   "id": "54c6a329",
   "metadata": {},
   "outputs": [],
   "source": [
    "label_to_hint_map = {\n",
    "    'pos': 'Positive', \n",
    "    'neg': 'Negative',\n",
    "}\n",
    "\n",
    "\n",
    "tasks = []\n",
    "for l in ['pos', 'neg']: \n",
    "    examples = df[df.label == l].head(3)\n",
    "    \n",
    "    for ex_tuple in examples.itertuples():\n",
    "        tasks.append(\n",
    "            toloka.Task(input_values={'text': ex_tuple.text}, \n",
    "            known_solutions=[toloka.task.BaseTask.KnownSolution(output_values={'result': ex_tuple.label})],   \n",
    "            message_on_unknown_solution=f'Incorrect label! The actual label is: {label_to_hint_map[ex_tuple.label]}',\n",
    "            infinite_overlap=True,\n",
    "            pool_id=training_pool.id)\n",
    "        )\n",
    "\n",
    "result = toloka_client.create_tasks(tasks, allow_defaults=True)"
   ]
  },
  {
   "cell_type": "code",
   "execution_count": null,
   "id": "bdc7b7d2",
   "metadata": {},
   "outputs": [],
   "source": [
    "base_pool = toloka.Pool(\n",
    "        project_id=project.id,\n",
    "        private_name='AutoQuality Base Pool',\n",
    "        may_contain_adult_content=False,\n",
    "        reward_per_assignment=0.01, \n",
    "        assignment_max_duration_seconds=60*7, \n",
    "        will_expire=datetime.datetime.utcnow() + datetime.timedelta(days=365), \n",
    "        filter=(\n",
    "            (toloka.filter.Languages.in_('EN')) &\n",
    "            (\n",
    "                (toloka.filter.ClientType == 'TOLOKA_APP') | \n",
    "                (toloka.filter.ClientType == 'BROWSER')\n",
    "            )\n",
    "        ),\n",
    "    )"
   ]
  },
  {
   "cell_type": "code",
   "execution_count": null,
   "id": "46c6f9b2",
   "metadata": {},
   "outputs": [],
   "source": [
    "base_pool.set_mixer_config(\n",
    "    real_tasks_count=4,\n",
    "    golden_tasks_count=1\n",
    ")"
   ]
  },
  {
   "cell_type": "code",
   "execution_count": null,
   "id": "11480cbf",
   "metadata": {},
   "outputs": [],
   "source": [
    "base_pool = toloka_client.create_pool(base_pool)"
   ]
  },
  {
   "cell_type": "markdown",
   "id": "72440b93",
   "metadata": {},
   "source": [
    "## AutoQuality basic usage\n",
    "\n",
    "To use AutoQuality class you need to set project_id, base_pool_id, training_pool_id. If your target label field is different from `label` when you also need to specify it. "
   ]
  },
  {
   "cell_type": "code",
   "execution_count": null,
   "id": "e7fc50ef",
   "metadata": {},
   "outputs": [],
   "source": [
    "aq = AutoQuality(\n",
    "  toloka_client=toloka_client,\n",
    "  project_id=project.id,\n",
    "  base_pool_id=base_pool.id,\n",
    "  training_pool_id=training_pool.id,\n",
    "  label_field='result'\n",
    "  # you can also use exam pool\n",
    "  # exam_pool_id = ...,\n",
    "  # exam_skill_id = ...,\n",
    ")"
   ]
  },
  {
   "cell_type": "markdown",
   "id": "3cd0d780",
   "metadata": {},
   "source": [
    "First, call `setup_pools` to create multiple pools with a different quality control settings (autqouality pools)"
   ]
  },
  {
   "cell_type": "code",
   "execution_count": null,
   "id": "acd38696",
   "metadata": {},
   "outputs": [],
   "source": [
    "aq.setup_pools()"
   ]
  },
  {
   "cell_type": "markdown",
   "id": "1677eb14",
   "metadata": {},
   "source": [
    "Then use `create_tasks` to add tasks for every autoquality pool."
   ]
  },
  {
   "cell_type": "code",
   "execution_count": null,
   "id": "8f863735",
   "metadata": {},
   "outputs": [],
   "source": [
    "n_optim = 200\n",
    "df_optim = df_control.iloc[:n_optim].copy()\n",
    "df_optim_golden = df_control.iloc[n_optim:].copy()\n",
    "df_optim.shape, df_optim_golden.shape"
   ]
  },
  {
   "cell_type": "code",
   "execution_count": null,
   "id": "ce4595a5",
   "metadata": {},
   "outputs": [],
   "source": [
    "aq_tasks = []"
   ]
  },
  {
   "cell_type": "code",
   "execution_count": null,
   "id": "63e6c15e",
   "metadata": {},
   "outputs": [],
   "source": [
    "for row in df_optim.itertuples():\n",
    "    aq_tasks.append(\n",
    "        toloka.Task(\n",
    "            input_values={'text': row.text}, \n",
    "        )\n",
    "    )\n",
    "for row in df_optim_golden.itertuples():\n",
    "    aq_tasks.append(\n",
    "        toloka.Task(\n",
    "            input_values={'text': row.text}, \n",
    "            known_solutions=[toloka.task.BaseTask.KnownSolution(output_values={'result': ex_tuple.label})]\n",
    "        )\n",
    "    )"
   ]
  },
  {
   "cell_type": "code",
   "execution_count": null,
   "id": "480f05b8",
   "metadata": {},
   "outputs": [],
   "source": [
    "aq.create_tasks(aq_tasks)"
   ]
  },
  {
   "cell_type": "markdown",
   "id": "9929adee",
   "metadata": {},
   "source": [
    "Finally, just `run` autoquality. "
   ]
  },
  {
   "cell_type": "code",
   "execution_count": null,
   "id": "ad3649ba",
   "metadata": {},
   "outputs": [],
   "source": [
    "aq.run()"
   ]
  },
  {
   "cell_type": "markdown",
   "id": "ee0cf637",
   "metadata": {},
   "source": [
    "After that your autoquality instance will have some useful attributes with the results of the work."
   ]
  },
  {
   "cell_type": "code",
   "execution_count": null,
   "id": "2318d3da",
   "metadata": {},
   "outputs": [],
   "source": [
    "aq.best_pool_id"
   ]
  },
  {
   "cell_type": "code",
   "execution_count": null,
   "id": "4379732b",
   "metadata": {},
   "outputs": [],
   "source": [
    "aq.best_pool_params"
   ]
  },
  {
   "cell_type": "markdown",
   "id": "12d1deb4",
   "metadata": {},
   "source": [
    "You can also compare all autoqualoty pools by a variety of different metrics"
   ]
  },
  {
   "cell_type": "code",
   "execution_count": null,
   "id": "7bbdb9ee",
   "metadata": {},
   "outputs": [],
   "source": [
    "aq.ranks"
   ]
  },
  {
   "cell_type": "markdown",
   "id": "d84545ed",
   "metadata": {},
   "source": [
    "And archive all pools created by autoquality."
   ]
  },
  {
   "cell_type": "code",
   "execution_count": null,
   "id": "9fe8bfe2",
   "metadata": {},
   "outputs": [],
   "source": [
    "aq.archive_autoquality_pools()"
   ]
  },
  {
   "cell_type": "markdown",
   "id": "c5b46cd9",
   "metadata": {},
   "source": [
    "## Autoquality advanced usage\n",
    "\n",
    "AutoQuality class provides many ways to customize your optimization algorithm. Let's create another instance with a different settings."
   ]
  },
  {
   "cell_type": "markdown",
   "id": "d17647a8",
   "metadata": {},
   "source": [
    "First of all, you can set `n_iter` parameter which determines how many autoquality pools will be created."
   ]
  },
  {
   "cell_type": "code",
   "execution_count": null,
   "id": "f831d030",
   "metadata": {},
   "outputs": [],
   "source": [
    "aq = AutoQuality(\n",
    "  toloka_client=toloka_client,\n",
    "  project_id=project.id,\n",
    "  base_pool_id=base_pool.id,\n",
    "  training_pool_id=training_pool.id,\n",
    "  label_field='result',\n",
    "  n_iter=5\n",
    ")"
   ]
  },
  {
   "cell_type": "markdown",
   "id": "c9395741",
   "metadata": {},
   "source": [
    "Also you can change the distributions for quality control parameters optimized by autoquality. In this example we will change the distributions for the majority vote rule. AutoQuality will sample new values for every autoquality pool from this distributions."
   ]
  },
  {
   "cell_type": "code",
   "execution_count": null,
   "id": "8a390b6a",
   "metadata": {},
   "outputs": [],
   "source": [
    "from scipy import stats\n",
    "aq.parameter_distributions['MajorityVote'] = dict(\n",
    "    history_size=[3, 5, 7], \n",
    "    incorrect_answers_rate=stats.norm(loc=70, scale=10)\n",
    ")"
   ]
  },
  {
   "cell_type": "markdown",
   "id": "37d522e7",
   "metadata": {},
   "source": [
    "Finally, you can customize methods which calculates scores or ranks. Let's modify the ranking function to give preference to a cheaper pools. Do not forget to set your new rank to a `main_rank` column so that AutoQuality knows how to choose the best pool."
   ]
  },
  {
   "cell_type": "code",
   "execution_count": null,
   "id": "151ced9a",
   "metadata": {},
   "outputs": [],
   "source": [
    "from toloka.autoquality.scoring import default_calc_ranks\n",
    "def my_new_calc_ranks(scores_df: pd.DataFrame) -> pd.DataFrame:\n",
    "    ranks = default_calc_ranks(scores_df)\n",
    "    ranks['my_new_rank'] = (0.4 * scores_df['avg_quality_rank']\n",
    "                            + 0.1 * (1 / 2) * scores_df['bans_ratio_rank']\n",
    "                            + 0.5 * scores_df['spending_per_task_rank']\n",
    "                            + 0.1 * (1 / 2) * scores_df['tasks_per_second_rank']\n",
    "                           )\n",
    "    ranks['main_rank'] = ranks['my_new_rank']\n",
    "    return ranks\n",
    "aq.ranking_func = my_new_calc_ranks"
   ]
  },
  {
   "cell_type": "markdown",
   "id": "dae5ad35",
   "metadata": {},
   "source": [
    "You can create completely new scoring and ranking functions to use AutoQuality the way you need. Just keep the same signature as in the [default methods](https://github.com/Toloka/toloka-kit/blob/main/src/autoquality/scoring.py)."
   ]
  },
  {
   "cell_type": "markdown",
   "id": "c7ebaae5",
   "metadata": {},
   "source": [
    "Now let's run our modified AutoQuality instance again"
   ]
  },
  {
   "cell_type": "code",
   "execution_count": null,
   "id": "316ea453",
   "metadata": {},
   "outputs": [],
   "source": [
    "aq.setup_pools()"
   ]
  },
  {
   "cell_type": "code",
   "execution_count": null,
   "id": "b72cca59",
   "metadata": {},
   "outputs": [],
   "source": [
    "aq.create_tasks(aq_tasks)"
   ]
  },
  {
   "cell_type": "code",
   "execution_count": null,
   "id": "bd046c0c",
   "metadata": {},
   "outputs": [],
   "source": [
    "aq.run()"
   ]
  },
  {
   "cell_type": "code",
   "execution_count": null,
   "id": "c581f658",
   "metadata": {},
   "outputs": [],
   "source": [
    "aq.best_pool_params"
   ]
  },
  {
   "cell_type": "code",
   "execution_count": null,
   "id": "c77786a3",
   "metadata": {},
   "outputs": [],
   "source": [
    "aq.ranks"
   ]
  },
  {
   "cell_type": "code",
   "execution_count": null,
   "id": "961cf2d7",
   "metadata": {},
   "outputs": [],
   "source": [
    "aq.archive_autoquality_pools()"
   ]
  }
 ],
 "metadata": {
  "kernelspec": {
   "display_name": "Python 3 (ipykernel)",
   "language": "python",
   "name": "python3"
  },
  "language_info": {
   "codemirror_mode": {
    "name": "ipython",
    "version": 3
   },
   "file_extension": ".py",
   "mimetype": "text/x-python",
   "name": "python",
   "nbconvert_exporter": "python",
   "pygments_lexer": "ipython3",
   "version": "3.10.4"
  }
 },
 "nbformat": 4,
 "nbformat_minor": 5
}
