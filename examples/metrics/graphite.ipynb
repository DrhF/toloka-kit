{
 "cells": [
  {
   "cell_type": "markdown",
   "source": [
    "# Collect and show metrics in Graphite"
   ],
   "metadata": {
    "collapsed": false
   }
  },
  {
   "cell_type": "markdown",
   "source": [
    "In this example we will learn how to collect metrics using Toloka-kit and\n",
    "send them to remote metrics server (we will use [Graphite](https://graphiteapp.org) but switching to any other solution is very easy)."
   ],
   "metadata": {
    "collapsed": false
   }
  },
  {
   "cell_type": "code",
   "execution_count": null,
   "outputs": [],
   "source": [
    "%%capture\n",
    "!pip install toloka-kit==0.1.22\n",
    "!pip install crowd-kit==0.0.8\n",
    "\n",
    "import socket\n",
    "import asyncio\n",
    "import logging\n",
    "\n",
    "import toloka.metrics as metrics\n",
    "import toloka.client as toloka\n",
    "from toloka.metrics import MetricCollector"
   ],
   "metadata": {
    "collapsed": false,
    "pycharm": {
     "name": "#%%\n"
    }
   }
  },
  {
   "cell_type": "code",
   "execution_count": null,
   "outputs": [],
   "source": [
    "toloka_client = toloka.TolokaClient(input(\"Enter your token:\"), 'PRODUCTION')\n",
    "print(toloka_client.get_requester())"
   ],
   "metadata": {
    "collapsed": false,
    "pycharm": {
     "name": "#%%\n"
    }
   }
  },
  {
   "cell_type": "markdown",
   "source": [
    "For this example we will run pipeline from [Streaming pipeline example](https://github.com/Toloka/toloka-kit/tree/main/examples/6.streaming_pipelines/streaming_pipelines.ipynb) [![Open In Colab](https://colab.research.google.com/assets/colab-badge.svg)](https://colab.research.google.com/github/Toloka/toloka-kit/blob/main/examples/6.streaming_pipelines/streaming_pipelines.ipynb).\n",
    "If you are running this jupyter notebook in colab please download necessary script with the following line of code:"
   ],
   "metadata": {
    "collapsed": false
   }
  },
  {
   "cell_type": "code",
   "execution_count": null,
   "outputs": [],
   "source": [
    "!wget --quiet --show-progress \"https://raw.githubusercontent.com/Toloka/toloka-kit/main/examples/metrics/find_items_pipeline.py\""
   ],
   "metadata": {
    "collapsed": false,
    "pycharm": {
     "name": "#%%\n"
    }
   }
  },
  {
   "cell_type": "code",
   "execution_count": null,
   "outputs": [],
   "source": [
    "from find_items_pipeline import FindItemsPipeline\n",
    "pipeline = FindItemsPipeline(client=toloka_client)"
   ],
   "metadata": {
    "collapsed": false,
    "pycharm": {
     "name": "#%%\n"
    }
   }
  },
  {
   "cell_type": "markdown",
   "source": [
    "Create projects and pools needed for pipeline"
   ],
   "metadata": {
    "collapsed": false
   }
  },
  {
   "cell_type": "code",
   "execution_count": null,
   "outputs": [],
   "source": [
    "pipeline.init_pipeline()"
   ],
   "metadata": {
    "collapsed": false,
    "pycharm": {
     "name": "#%%\n"
    }
   }
  },
  {
   "cell_type": "markdown",
   "source": [
    "## Configuring metrics collection in Graphite\n",
    "\n",
    "You need to [configure](https://graphite.readthedocs.io/en/stable/install.html) Graphite server before proceeding\n",
    "to this section. An easy option might be using official docker container. Selection of user interface is up to you\n",
    "(during creation of this example we used [Grafana](https://grafana.com))."
   ],
   "metadata": {
    "collapsed": false
   }
  },
  {
   "cell_type": "code",
   "execution_count": null,
   "outputs": [],
   "source": [
    "# specify your Graphite instance url and port\n",
    "CARBON_ADDRESS = 'localhost'\n",
    "CARBON_PORT = 2003\n",
    "\n",
    "try:\n",
    "    sock = socket.socket()\n",
    "    sock.connect((CARBON_ADDRESS, CARBON_PORT))\n",
    "    sock.close()\n",
    "except ConnectionRefusedError:\n",
    "    raise RuntimeError('Graphite server is unreachable!')\n",
    "else:\n",
    "    print('Congratulations, connected to Graphite server!')"
   ],
   "metadata": {
    "collapsed": false,
    "pycharm": {
     "name": "#%%\n"
    }
   }
  },
  {
   "cell_type": "markdown",
   "source": [
    "Firstly we will define callback that will be used to send metrics to graphite. This callback defines the process of\n",
    "collected metrics logging (in our case logging is implemented by sending logs to Graphite server in plaintext format for the simplicity sake)."
   ],
   "metadata": {
    "collapsed": false
   }
  },
  {
   "cell_type": "code",
   "execution_count": null,
   "outputs": [],
   "source": [
    "class GraphiteLogger:\n",
    "    def __init__(self, carbon_address, carbon_port, use_ipv6=False):\n",
    "        self.carbon_address = carbon_address\n",
    "        self.carbon_port = carbon_port\n",
    "        self.use_ipv6 = use_ipv6\n",
    "        self.logger = logging.getLogger('GraphiteLogger')\n",
    "\n",
    "    def __call__(self, metric_dict):\n",
    "        if self.use_ipv6:\n",
    "            s = socket.socket(socket.AF_INET6)\n",
    "            s.connect((self.carbon_address, self.carbon_port, 0, 0))\n",
    "        else:\n",
    "            s = socket.socket()\n",
    "            s.connect((self.carbon_address, self.carbon_port))\n",
    "\n",
    "        for metric in metric_dict:\n",
    "            for timestamp, value in metric_dict[metric]:\n",
    "                s.sendall(\n",
    "                    f'{metric} {value} {timestamp.timestamp()}\\n'.encode()\n",
    "                )\n",
    "                self.logger.log(\n",
    "                    logging.INFO,\n",
    "                    f'Logged {metric} {value} {timestamp.timestamp()}'\n",
    "                )\n",
    "        s.close()\n",
    "\n",
    "\n",
    "graphite_logger = GraphiteLogger(\n",
    "    CARBON_ADDRESS, CARBON_PORT,\n",
    "    # specify use_ipv6=True if your Graphite server is available only via IPv6\n",
    "    # (this may be the case if you are running Graphite inside docker hosted in MacOS)\n",
    "    use_ipv6=False,\n",
    ")"
   ],
   "metadata": {
    "collapsed": false,
    "pycharm": {
     "name": "#%%\n"
    }
   }
  },
  {
   "cell_type": "markdown",
   "source": [
    "Before sending metrics to Graphite we need to collect them with the `MetricCollector`. For this example we will collect\n",
    "a number of submitted assignments, accepted assignments and total expenses for each pool. All available metrics can be found in the [documentation](https://toloka.ai/docs/toloka-kit/reference/toloka.metrics.metrics.BaseMetric.html)."
   ],
   "metadata": {
    "collapsed": false
   }
  },
  {
   "cell_type": "code",
   "execution_count": null,
   "outputs": [],
   "source": [
    "metric_collector = MetricCollector(\n",
    "    [\n",
    "        # Assignments in pools. We will track submitted assignments and\n",
    "        # accepted assignments counts for every pool.\n",
    "        metrics.AssignmentsInPool(\n",
    "            pipeline.verification_pool.id,\n",
    "            submitted_name='verification_pool.submitted_assignments',\n",
    "            accepted_name='verification_pool.accepted_assignments',\n",
    "        ),\n",
    "        metrics.AssignmentsInPool(\n",
    "            pipeline.find_items_pool.id,\n",
    "            submitted_name='find_items_pool.submitted_assignments',\n",
    "            accepted_name='find_items_pool.accepted_assignments',\n",
    "        ),\n",
    "        metrics.AssignmentsInPool(\n",
    "            pipeline.sbs_pool.id,\n",
    "            submitted_name='sbs_pool.submitted_assignments',\n",
    "            accepted_name='sbs_pool.accepted_assignments',\n",
    "        ),\n",
    "        # Budget spent for every pool\n",
    "        metrics.SpentBudgetOnPool(\n",
    "            pipeline.verification_pool.id,\n",
    "            'verification_pool.expenses'\n",
    "        ),\n",
    "        metrics.SpentBudgetOnPool(\n",
    "            pipeline.find_items_pool.id,\n",
    "            'find_items_pool.expenses'\n",
    "        ),\n",
    "        metrics.SpentBudgetOnPool(\n",
    "            pipeline.sbs_pool.id,\n",
    "            'sbs_pool.expenses'\n",
    "        )\n",
    "    ],\n",
    "    callback=graphite_logger\n",
    ")\n",
    "\n",
    "# You can specify toloka_client argument in each metric instead of calling\n",
    "# bind_client if you want to use different clients for different metrics\n",
    "metrics.bind_client(metric_collector.metrics, toloka_client)"
   ],
   "metadata": {
    "collapsed": false,
    "pycharm": {
     "name": "#%%\n"
    }
   }
  },
  {
   "cell_type": "markdown",
   "source": [
    "## Running pipeline\n",
    "\n",
    "Let's try to launch our pipeline and see metrics updated. Metrics will be sent to configured Graphite server.\n",
    "\n",
    "⚠️ **Be careful**:\n",
    "real projects will be created and money will be spent in case of running in production environment! ⚠️\n"
   ],
   "metadata": {
    "collapsed": false
   }
  },
  {
   "cell_type": "code",
   "execution_count": null,
   "outputs": [],
   "source": [
    "# Google Colab is using a global event pool,\n",
    "# so in order to run our pipeline we have to apply nest_asyncio to create an inner pool\n",
    "if 'google.colab' in str(get_ipython()):\n",
    "    import nest_asyncio, asyncio\n",
    "    nest_asyncio.apply()\n",
    "    asyncio.get_event_loop().run_until_complete(asyncio.gather(metric_collector.run(), pipeline.run()))\n",
    "else:\n",
    "    await asyncio.gather(metric_collector.run(), pipeline.run())"
   ],
   "metadata": {
    "collapsed": false,
    "pycharm": {
     "name": "#%%\n"
    }
   }
  },
  {
   "cell_type": "markdown",
   "source": [
    "Here is an example of metrics displayed in Grafana with Graphite as the Datasource after pipeline completion.\n",
    "\n",
    "<table  align=\"center\">\n",
    "  <tr><td>\n",
    "    <img src=\"./img/grafana_metrics.png\" width=\"1000\">\n",
    "  </td></tr>\n",
    "  <tr><td align=\"center\">\n",
    "    <b>Figure 2.</b> Grafana web view.\n",
    "  </td></tr>\n",
    "</table>"
   ],
   "metadata": {
    "collapsed": false,
    "pycharm": {
     "name": "#%% md\n"
    }
   }
  }
 ],
 "metadata": {
  "kernelspec": {
   "display_name": "Python 3",
   "language": "python",
   "name": "python3"
  },
  "language_info": {
   "codemirror_mode": {
    "name": "ipython",
    "version": 2
   },
   "file_extension": ".py",
   "mimetype": "text/x-python",
   "name": "python",
   "nbconvert_exporter": "python",
   "pygments_lexer": "ipython2",
   "version": "2.7.6"
  }
 },
 "nbformat": 4,
 "nbformat_minor": 0
}