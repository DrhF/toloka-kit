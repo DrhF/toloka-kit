{
 "cells": [
  {
   "source": [
    "# How to collect images for a dataset\n",
    "\n",
    "The goal for this project is to collect images of dogs and cats for a dataset. This dataset will consist of images of dogs, cats, and empty images.\n",
    "\n",
    "Performers will be asked to take a photo of their pet and specify the type of animal.\n",
    "\n",
    "The real project like that should be subdivided into subprojects of validation and markup to make sure each photo is correct and contains the object it says it does. This example is simplified and doesn't contain subdivision."
   ],
   "cell_type": "markdown",
   "metadata": {}
  },
  {
   "source": [
    "# Prepare the environment and import everything you'll need\n",
    "!pip install toloka-kit==0.1.5\n",
    "\n",
    "import datetime\n",
    "import time\n",
    "\n",
    "import toloka.client as toloka\n",
    "import toloka.client.project.template_builder as tb"
   ],
   "cell_type": "code",
   "metadata": {},
   "execution_count": null,
   "outputs": []
  },
  {
   "source": [
    "Click [here](https://github.com/Toloka/toloka-kit/blob/main/README.md) to learn about Toloka and how to get an OAuth token.\n",
    "\n",
    "[Image segmentation example](https://github.com/Toloka/toloka-kit/blob/main/examples/image_segmentation/image_segmentation.ipynb)."
   ],
   "cell_type": "markdown",
   "metadata": {}
  },
  {
   "cell_type": "code",
   "execution_count": null,
   "metadata": {},
   "outputs": [],
   "source": [
    "# Сreate a toloka-client instance\n",
    "# All API calls will go through it\n",
    "try:\n",
    "    token = input(\"Enter your token:\")\n",
    "    toloka_client = toloka.TolokaClient(token, 'PRODUCTION')  # Or switch to 'SANDBOX'\n",
    "    # Lines below check the availability of money in your account and that the OAuth token is correct\n",
    "    requester = toloka_client.get_requester()\n",
    "    print('It\\'s enough money on your account - ', requester.balance > 3.0)\n",
    "except:\n",
    "    print('You probably entered an invalid token. Please, run this cell again.')"
   ]
  },
  {
   "source": [
    "---\n",
    "---\n",
    "## Starting a project\n",
    "\n",
    "Note: Go to the next section to get results for the **already launched project**."
   ],
   "cell_type": "markdown",
   "metadata": {}
  },
  {
   "source": [
    "### Create a new project\n",
    "\n",
    "Prepare the task interface.\n",
    "\n",
    "The task interface should:\n",
    "- Contain the description of the task.\n",
    "- Permit uploading images.\n",
    "- Allow to select the type of object depicted in the image.\n",
    "\n",
    "Structure of output data:"
   ],
   "cell_type": "markdown",
   "metadata": {}
  },
  {
   "cell_type": "code",
   "execution_count": null,
   "metadata": {},
   "outputs": [],
   "source": [
    "output_specification = {\n",
    "    'image': toloka.project.field_spec.FileSpec(),\n",
    "    'label': toloka.project.field_spec.StringSpec(allowed_values=['cat', 'dog', 'none'])\n",
    "}"
   ]
  },
  {
   "source": [
    "Configure the task interface.\n",
    "\n",
    "Click [here](https://yandex.com/support/toloka-tb/index.html) to learn more about Template Builder, an environment for task interface configuration."
   ],
   "cell_type": "markdown",
   "metadata": {}
  },
  {
   "cell_type": "code",
   "execution_count": null,
   "metadata": {},
   "outputs": [],
   "source": [
    "# Radio buttons to choose the label type\n",
    "radio_group_field = tb.fields.RadioGroupFieldV1(\n",
    "    data=tb.data.OutputData(path='label'),\n",
    "    label='What\\'s in your photograph?',\n",
    "    validation=tb.conditions.RequiredConditionV1(),\n",
    "    options=[\n",
    "        tb.fields.GroupFieldOption(label='Cat', value='cat'),\n",
    "        tb.fields.GroupFieldOption(label='Dog', value='dog'),\n",
    "        tb.fields.GroupFieldOption(label='Neither a cat nor a dog', value='none'),\n",
    "    ]\n",
    ")\n",
    "\n",
    "# Buttons for loading an image or taking a photo\n",
    "image_loader = tb.fields.MediaFileFieldV1(\n",
    "    label='Upload a photo of your cat or your dog. Read the instructions carefully.',\n",
    "    data=tb.data.OutputData(path='image'),\n",
    "    validation=tb.conditions.RequiredConditionV1(),\n",
    "    accept=tb.fields.MediaFileFieldV1.Accept(photo=True, gallery=True),\n",
    "    multiple=False,\n",
    ")\n",
    "\n",
    "# How performers will see the task\n",
    "project_interface = toloka.project.view_spec.TemplateBuilderViewSpec(\n",
    "    config=tb.TemplateBuilder(\n",
    "        view=tb.view.ListViewV1(items=[image_loader, radio_group_field])\n",
    "    ),\n",
    "    settings={\n",
    "        'showSubmit': True,\n",
    "        'showFinish': True,\n",
    "        'showTimer': True,\n",
    "        'showReward': True,\n",
    "        'showTitle': True,\n",
    "        'showRoute': True,\n",
    "        'showComplain': True,\n",
    "        'showMessage': True,\n",
    "        'showSubmitExit': True,\n",
    "        'showFullscreen': True,\n",
    "        'showInstructions': True,\n",
    "    },\n",
    ")\n",
    "\n",
    "public_instruction = \"\"\"Take a picture of your pet if it is a cat or a dog and select the appropriate label type.<br><br>\n",
    "If you don't have a cat or a dog, take a photo of anything and select a \"Not a cat nor a dog\" label. There should be exactly one animal in the photo, clearly visible, not cropped. The animal can be photographed from any side and in any position. You can take a picture of a pet in your arms.<br><br>\n",
    "It should be clearly visible what animal is depicted (e.g. do not photograph your pet's back in the dark).\n",
    "\"\"\"\n",
    "\n",
    "# Create a project\n",
    "new_project = toloka.project.Project(\n",
    "    assignments_issuing_type=toloka.project.Project.AssignmentsIssuingType.AUTOMATED,\n",
    "    public_name='Take a photo of your pet',\n",
    "    public_description='If you have a cat or a dog, take a picture of it. If you don\\'t have any such animals, take a random photo.',\n",
    "    public_instructions=public_instruction,\n",
    "    # Set up the task interface and output parameters\n",
    "    task_spec=toloka.project.task_spec.TaskSpec(\n",
    "        input_spec={'label': toloka.project.field_spec.StringSpec(required=False, hidden=True)},\n",
    "        output_spec=output_specification,\n",
    "        view_spec=project_interface,\n",
    "    ),\n",
    ")\n",
    "\n",
    "# An API request to create a new project\n",
    "new_project = toloka_client.create_project(new_project)\n",
    "print(f'Created project with id {new_project.id}')\n",
    "print(f'To view the project, go to https://toloka.yandex.com/requester/project/{new_project.id}')\n",
    "# print(f'To view this pool, go to https://sandbox.toloka.yandex.com/requester/project/{new_project.id}/pool/{new_pool.id}') # Print a sandbox version link"
   ]
  },
  {
   "source": [
    "### Create a pool"
   ],
   "cell_type": "markdown",
   "metadata": {}
  },
  {
   "source": [
    "Create a task pool and set its quality control rules.\n",
    "\n",
    "This project will only allow one answer. It can be implemented through a skill:\n",
    "\n",
    "1. A performer gets the skill after sending a response.\n",
    "2. The performers with the skill are not allowed to perform the task."
   ],
   "cell_type": "markdown",
   "metadata": {}
  },
  {
   "cell_type": "code",
   "execution_count": null,
   "metadata": {},
   "outputs": [],
   "source": [
    "# Create a skill\n",
    "skill_name = 'Pet photo'\n",
    "pet_skill = next(toloka_client.get_skills(name=skill_name), None)\n",
    "if pet_skill:\n",
    "    print('Skill already exists')\n",
    "else:\n",
    "    print('Creating new skill')\n",
    "    pet_skill = toloka_client.create_skill(\n",
    "        name=skill_name,\n",
    "        hidden=True,\n",
    "        public_requester_description={'EN': 'The performer took a photo of their pet.'},\n",
    "    )"
   ]
  },
  {
   "source": [
    "Access to tasks is granted for:\n",
    "\n",
    "1. Toloka Mobile users.\n",
    "\n",
    "   _Why: A phone is a convenient tool to make photos. A phone also makes it harder to cheat by uploading a random file._\n",
    "\n",
    "2. English-speaking performers.\n",
    "\n",
    "   _Why: The task instruction is written in English._"
   ],
   "cell_type": "markdown",
   "metadata": {}
  },
  {
   "cell_type": "code",
   "execution_count": null,
   "metadata": {},
   "outputs": [],
   "source": [
    "# Create a pool\n",
    "new_pool = toloka.pool.Pool(\n",
    "    project_id=new_project.id,\n",
    "    private_name='Pool 1',\n",
    "    may_contain_adult_content=False,\n",
    "    will_expire=datetime.datetime.utcnow() + datetime.timedelta(days=365),\n",
    "    reward_per_assignment=0.05,\n",
    "    auto_accept_solutions=True,\n",
    "    assignment_max_duration_seconds=60*10,\n",
    "    defaults=toloka.pool.Pool.Defaults(default_overlap_for_new_task_suites=1),\n",
    "    filter=(\n",
    "        (toloka.filter.Languages.in_('EN')) &\n",
    "        (toloka.filter.Skill(pet_skill.id) == None) &\n",
    "        (toloka.filter.ClientType == toloka.filter.ClientType.ClientType.TOLOKA_APP)\n",
    "    ),\n",
    ")\n",
    "\n",
    "# Automatically updating skills\n",
    "new_pool.quality_control.add_action(\n",
    "    collector=toloka.collectors.AnswerCount(),\n",
    "    # If the performer completed at least one task,\n",
    "    conditions=[toloka.conditions.AssignmentsAcceptedCount > 0],\n",
    "    # It doesn't add to the skill, it sets the new skill to 1\n",
    "    action=toloka.actions.SetSkill(skill_id=pet_skill.id, skill_value=1),\n",
    ")\n",
    "\n",
    "new_pool = toloka_client.create_pool(new_pool)\n",
    "print(f'Created pool with id {new_pool.id}')\n",
    "print(f'To view the pool, go to https://toloka.yandex.com/requester/project/{new_project.id}/pool/{new_pool.id}')\n",
    "# print(f'To view this pool, go to https://sandbox.toloka.yandex.com/requester/project/{new_project.id}/pool/{new_pool.id}') # Print a sandbox version link"
   ]
  },
  {
   "source": [
    "Open the project for preview.\n",
    "\n",
    "Mobile devices will display the task like that:\n",
    "\n",
    "<table  align=\"center\">\n",
    "  <tr><td>\n",
    "    <img src=\"./img/performer_interface.png\"\n",
    "         alt=\"How performers will see your task on mobile\"  height=\"600\">\n",
    "  </td></tr>\n",
    "  <tr><td align=\"center\">\n",
    "    <b>Figure 1.</b> How performers will see your task on mobile\n",
    "  </td></tr>\n",
    "</table>\n",
    "\n",
    "Note: In preview mode you won't be able to upload an image and look at the result. This restriction is related to the preview features and doesn't affect performers."
   ],
   "cell_type": "markdown",
   "metadata": {}
  },
  {
   "source": [
    "### Add a task and run the project\n",
    "Add one task.\n",
    "\n",
    "Adjust the amount of images you want to get by changing the overlap."
   ],
   "cell_type": "markdown",
   "metadata": {}
  },
  {
   "cell_type": "code",
   "execution_count": null,
   "metadata": {},
   "outputs": [],
   "source": [
    "image_count = 10  # How many images you will receive.\n",
    "new_tasks_suite = toloka.task_suite.TaskSuite(\n",
    "    pool_id=new_pool.id,\n",
    "    tasks=[toloka.task.Task(input_values={'label': 'Cats vs Dogs'})],\n",
    "    overlap=image_count,\n",
    ")\n",
    "\n",
    "# Add task suites to the pool\n",
    "toloka_client.create_task_suite(new_tasks_suite)\n",
    "print(f'Created pool with id {new_pool.id}')\n",
    "print(f'To view this pool, go to https://toloka.yandex.com/requester/project/{new_project.id}/pool/{new_pool.id}')\n",
    "# print(f'To view this pool, go to https://sandbox.toloka.yandex.com/requester/project/{new_project.id}/pool/{new_pool.id}') # Print a sandbox version link\n",
    "\n",
    "# Open the pool\n",
    "new_pool = toloka_client.open_pool(new_pool.id)\n",
    "pool_id = new_pool.id"
   ]
  },
  {
   "source": [
    "## Getting responses\n",
    "\n",
    "Wait for performers to complete the tasks, then download the results."
   ],
   "cell_type": "markdown",
   "metadata": {}
  },
  {
   "source": [
    "### If your work with the notepad was interrupted\n",
    "\n",
    "In case you were launching tasks, but then reloaded the notepad:\n",
    "\n",
    "1. Enter the pool id below and uncomment the cell.\n",
    "2. Run all the code cells.\n",
    "\n",
    "If you are executing the notepad right now, **skip the next cell**."
   ],
   "cell_type": "markdown",
   "metadata": {}
  },
  {
   "cell_type": "code",
   "execution_count": null,
   "metadata": {},
   "outputs": [],
   "source": [
    "# pool_id = 22791482"
   ]
  },
  {
   "source": [
    "### Wait for the responses\n",
    "\n",
    "Wait for all the tasks in the pool to be completed."
   ],
   "cell_type": "markdown",
   "metadata": {}
  },
  {
   "source": [
    "def wait_pool_for_close(pool_id, minutes_to_wait=1):\n",
    "    sleep_time = 60 * minutes_to_wait\n",
    "    pool = toloka_client.get_pool(pool_id)\n",
    "    while not pool.is_closed():\n",
    "        op = toloka_client.get_analytics([toloka.analytics_request.CompletionPercentagePoolAnalytics(subject_id=pool.id)])\n",
    "        op = toloka_client.wait_operation(op)\n",
    "        percentage = op.details['value'][0]['result']['value']\n",
    "        print(\n",
    "            f'   {datetime.datetime.now().strftime(\"%H:%M:%S\")}\\t'\n",
    "            f'Pool {pool.id} - {percentage}%'\n",
    "        )\n",
    "        time.sleep(sleep_time)\n",
    "        pool = toloka_client.get_pool(pool.id)\n",
    "    print('Pool was closed.')\n",
    "\n",
    "wait_pool_for_close(pool_id)"
   ],
   "cell_type": "code",
   "metadata": {},
   "execution_count": null,
   "outputs": []
  },
  {
   "source": [
    "Download the results. \n",
    "\n",
    "Note: You should download files' ids, not the files themselves. The files will only be needed right before reviewing."
   ],
   "cell_type": "markdown",
   "metadata": {}
  },
  {
   "cell_type": "code",
   "execution_count": null,
   "metadata": {
    "tags": []
   },
   "outputs": [],
   "source": [
    "results_list = []\n",
    "\n",
    "for assignment in toloka_client.get_assignments(pool_id=pool_id, status=toloka.assignment.Assignment.ACCEPTED):\n",
    "    for solution in assignment.solutions:\n",
    "        results_list.append(solution.output_values)\n",
    "print(len(results_list))"
   ]
  },
  {
   "source": [
    "---\n",
    "---\n",
    "## Showing results\n",
    "\n",
    "Configure data display."
   ],
   "cell_type": "markdown",
   "metadata": {}
  },
  {
   "source": [
    "!pip install ipyplot\n",
    "from PIL import Image, ImageDraw\n",
    "import ipyplot\n",
    "\n",
    "results_iter = iter(results_list)"
   ],
   "cell_type": "code",
   "metadata": {},
   "execution_count": null,
   "outputs": []
  },
  {
   "source": [
    "Run the cell below multiple times to see different responses."
   ],
   "cell_type": "markdown",
   "metadata": {}
  },
  {
   "cell_type": "code",
   "execution_count": null,
   "metadata": {},
   "outputs": [],
   "source": [
    "res = next(results_iter, None)\n",
    "if res is not None:\n",
    "    with open('tmp_image_file', 'w+b') as out_f:\n",
    "        toloka_client.download_attachment(res['image'], out_f)\n",
    "        image = Image.open(out_f).convert(\"RGBA\")\n",
    "        print(f\"label: '{res['label']}'\")\n",
    "        ipyplot.plot_images(\n",
    "            [image],\n",
    "            max_images=1,\n",
    "            img_width=600,\n",
    "        )\n",
    "else:\n",
    "    print('No more results')"
   ]
  },
  {
   "source": [
    "## Summary\n",
    "\n",
    "This project consists of the minimum number of settings that will allow you to collect marked up images for your dataset.\n",
    "\n",
    "In real projects you should configure:\n",
    "- Non-automatic acceptance to have the time to review the images.\n",
    "- Linked project for validation and object's type markup."
   ],
   "cell_type": "markdown",
   "metadata": {}
  }
 ],
 "metadata": {
  "kernelspec": {
   "display_name": "Python 3",
   "language": "python",
   "name": "python3"
  },
  "language_info": {
   "codemirror_mode": {
    "name": "ipython",
    "version": 3
   },
   "file_extension": ".py",
   "mimetype": "text/x-python",
   "name": "python",
   "nbconvert_exporter": "python",
   "pygments_lexer": "ipython3",
   "version": "3.9.0"
  }
 },
 "nbformat": 4,
 "nbformat_minor": 4
}
