{
 "cells": [
  {
   "cell_type": "markdown",
   "source": [
    "# Text recognition"
   ],
   "metadata": {}
  },
  {
   "cell_type": "markdown",
   "source": [
    "To get acquainted with Toloka tools for free, you can use the promo code **TOLOKAKIT1** on $20 on your [profile page](https://toloka.yandex.com/requester/profile) after registration. "
   ],
   "metadata": {}
  },
  {
   "cell_type": "markdown",
   "source": [
    "Prepare environment and import all we'll need."
   ],
   "metadata": {}
  },
  {
   "cell_type": "code",
   "execution_count": null,
   "source": [
    "!pip install toloka-kit==0.1.15\n",
    "!pip install crowd-kit==0.0.7\n",
    "!pip install ipyplot\n",
    "\n",
    "import datetime\n",
    "import os\n",
    "import sys\n",
    "import time\n",
    "import logging\n",
    "\n",
    "import ipyplot\n",
    "import pandas\n",
    "import numpy as np\n",
    "\n",
    "import toloka.client as toloka\n",
    "import toloka.client.project.template_builder as tb\n",
    "from crowdkit.aggregation import ROVER\n",
    "\n",
    "logging.basicConfig(\n",
    "    format='[%(levelname)s] %(name)s: %(message)s',\n",
    "    level=logging.INFO,\n",
    "    stream=sys.stdout,\n",
    ")"
   ],
   "outputs": [],
   "metadata": {}
  },
  {
   "cell_type": "markdown",
   "source": [
    "Сreate toloka-client instance. All api calls will go through it. More about OAuth token in our [Learn the basics example](https://github.com/Toloka/toloka-kit/tree/main/examples/0.getting_started/0.learn_the_basics) [![Open In Colab](https://colab.research.google.com/assets/colab-badge.svg)](https://colab.research.google.com/github/Toloka/toloka-kit/blob/main/examples/0.getting_started/0.learn_the_basics/learn_the_basics.ipynb)"
   ],
   "metadata": {}
  },
  {
   "cell_type": "code",
   "execution_count": null,
   "source": [
    "toloka_client = toloka.TolokaClient(input(\"Enter your token:\"), 'PRODUCTION')  # Or switch to 'SANDBOX'\n",
    "logging.info(toloka_client.get_requester())"
   ],
   "outputs": [],
   "metadata": {}
  },
  {
   "cell_type": "markdown",
   "source": [
    "## Creating new project\n",
    "Enter a clear project name and description.\n",
    "> The project name and description will be visible to the performers."
   ],
   "metadata": {}
  },
  {
   "cell_type": "code",
   "execution_count": 3,
   "source": [
    "project = toloka.Project(\n",
    "    public_name='Write down the digits in an image',\n",
    "    public_description='Look at the image and write down the digits shown on the water meter.',\n",
    ")"
   ],
   "outputs": [],
   "metadata": {}
  },
  {
   "cell_type": "markdown",
   "source": [
    "Create task interface.\n",
    "\n",
    "- Read about configuring the [task interface](https://yandex.com/support/toloka-requester/reference/interface-spec.html) in the Requester’s Guide.\n",
    "- Check the [Interfaces section](https://toloka.ai/knowledgebase/interface) of our Knowledge Base for more tips on interface design.\n",
    "- Read more about the [Template builder](https://yandex.ru/support/toloka-tb/index.html) in the Requester’s Guide.  "
   ],
   "metadata": {}
  },
  {
   "cell_type": "code",
   "execution_count": 3,
   "source": [
    "header_viewer = tb.MarkdownViewV1(\"\"\"1. Look at the image\n",
    "2. Find boxes with the numbers\n",
    "3. Write down the digits in black section. (Put '0' if there are no digits there)\n",
    "4. Put '.'\n",
    "5. Write down the digits in red section\"\"\")\n",
    "\n",
    "image_viewer = tb.ImageViewV1(tb.InputData('image_url'), rotatable=True)\n",
    "\n",
    "output_field = tb.TextFieldV1(\n",
    "    tb.OutputData('value'),\n",
    "    label='Write down the digits. Format: 365.235',\n",
    "    placeholder='Enter value',\n",
    "    hint=\"Make sure your format of number is '365.235' or '0.112'\",\n",
    "    validation=tb.SchemaConditionV1(\n",
    "        schema={\n",
    "            'type': 'string',\n",
    "            'pattern': r'^\\d+\\.?\\d{0,3}$',\n",
    "            'minLength': 1,\n",
    "            'maxLength': 9,\n",
    "        }\n",
    "    )\n",
    ")\n",
    "\n",
    "task_width_plugin = tb.TolokaPluginV1('scroll', task_width=600)\n",
    "\n",
    "project_interface = toloka.project.TemplateBuilderViewSpec(\n",
    "    view=tb.ListViewV1([header_viewer, image_viewer, output_field]),\n",
    "    plugins=[task_width_plugin],\n",
    ")"
   ],
   "outputs": [],
   "metadata": {}
  },
  {
   "cell_type": "markdown",
   "source": [
    "Set data specification. And set task interface to project.\n",
    "> Specifications are a description of input data that will be used in a project and the output data that will be collected from the performers. \n",
    "\n",
    "Read more about [input and output data specifications](https://yandex.ru/support/toloka-tb/operations/create-specs.html?lang=en) in the Requester’s Guide. "
   ],
   "metadata": {}
  },
  {
   "cell_type": "code",
   "execution_count": 5,
   "source": [
    "input_specification = {'image_url': toloka.project.UrlSpec()}\n",
    "output_specification = {'value': toloka.project.StringSpec()}\n",
    "\n",
    "project.task_spec = toloka.project.task_spec.TaskSpec(\n",
    "    input_spec=input_specification,\n",
    "    output_spec=output_specification,\n",
    "    view_spec=project_interface,\n",
    ")"
   ],
   "outputs": [],
   "metadata": {}
  },
  {
   "cell_type": "markdown",
   "source": [
    "Write short and clear instructions.\n",
    "\n",
    "> Though the task itself is simple, be sure to add examples for non-obvious cases (like when there are no red digits on an image). This helps to eliminate noise in the labels.\n",
    "\n",
    "Get more tips on designing [instructions](https://toloka.ai/knowledgebase/instruction) in our Knowledge Base."
   ],
   "metadata": {}
  },
  {
   "cell_type": "code",
   "execution_count": 6,
   "source": [
    "project.public_instructions = \"\"\"This task is to solve machine learning problem of digit recognition on the image.<br>\n",
    "The more precise you read the information from the image the more precise would be algorithm<br>\n",
    "Your contribution here is to get exact information even if there are any complicated and uncertain cases.<br>\n",
    "We hope for your skills to solve one of the important science problem.<br><br>\n",
    "<b>Basic steps:</b><br>\n",
    "<ul><li>Look at the image and find meter with the numbers in the boxes</li>\n",
    "<li>Find black numbers/section and red numbers/section</li>\n",
    "<li>Put black and red numbers separated with '.' to text field</li></ul>\"\"\""
   ],
   "outputs": [],
   "metadata": {}
  },
  {
   "cell_type": "markdown",
   "source": [
    "Create a project."
   ],
   "metadata": {}
  },
  {
   "cell_type": "code",
   "execution_count": null,
   "source": [
    "project = toloka_client.create_project(project)"
   ],
   "outputs": [],
   "metadata": {}
  },
  {
   "cell_type": "markdown",
   "source": [
    "## Preparing data\n",
    "This example uses [Toloka WaterMeters](https://toloka.ai/datasets) dataset collected by Roman Kucev."
   ],
   "metadata": {}
  },
  {
   "cell_type": "code",
   "execution_count": 3,
   "source": [
    "!curl https://s3.mds.yandex.net/tlk/dataset/TlkWaterMeters/data.tsv --output data.tsv\n",
    "\n",
    "raw_dataset = pandas.read_csv('data.tsv', sep='\\t', dtype={'value': 'str'})\n",
    "raw_dataset = raw_dataset[['image_url', 'value']]\n",
    "\n",
    "with pandas.option_context(\"max_colwidth\", 100):\n",
    "    display(raw_dataset)"
   ],
   "outputs": [
    {
     "output_type": "stream",
     "name": "stdout",
     "text": [
      "  % Total    % Received % Xferd  Average Speed   Time    Time     Time  Current\n",
      "                                 Dload  Upload   Total   Spent    Left  Speed\n",
      "100  570k  100  570k    0     0  3299k      0 --:--:-- --:--:-- --:--:-- 3280k\n"
     ]
    },
    {
     "output_type": "display_data",
     "data": {
      "text/html": [
       "<div>\n",
       "<style scoped>\n",
       "    .dataframe tbody tr th:only-of-type {\n",
       "        vertical-align: middle;\n",
       "    }\n",
       "\n",
       "    .dataframe tbody tr th {\n",
       "        vertical-align: top;\n",
       "    }\n",
       "\n",
       "    .dataframe thead th {\n",
       "        text-align: right;\n",
       "    }\n",
       "</style>\n",
       "<table border=\"1\" class=\"dataframe\">\n",
       "  <thead>\n",
       "    <tr style=\"text-align: right;\">\n",
       "      <th></th>\n",
       "      <th>image_url</th>\n",
       "      <th>value</th>\n",
       "    </tr>\n",
       "  </thead>\n",
       "  <tbody>\n",
       "    <tr>\n",
       "      <th>0</th>\n",
       "      <td>https://tlk.s3.yandex.net/dataset/TlkWaterMeters/images/id_53_value_595_825.jpg</td>\n",
       "      <td>595.825</td>\n",
       "    </tr>\n",
       "    <tr>\n",
       "      <th>1</th>\n",
       "      <td>https://tlk.s3.yandex.net/dataset/TlkWaterMeters/images/id_553_value_65_475.jpg</td>\n",
       "      <td>65.475</td>\n",
       "    </tr>\n",
       "    <tr>\n",
       "      <th>2</th>\n",
       "      <td>https://tlk.s3.yandex.net/dataset/TlkWaterMeters/images/id_407_value_21_86.jpg</td>\n",
       "      <td>21.86</td>\n",
       "    </tr>\n",
       "    <tr>\n",
       "      <th>3</th>\n",
       "      <td>https://tlk.s3.yandex.net/dataset/TlkWaterMeters/images/id_252_value_313_322.jpg</td>\n",
       "      <td>313.322</td>\n",
       "    </tr>\n",
       "    <tr>\n",
       "      <th>4</th>\n",
       "      <td>https://tlk.s3.yandex.net/dataset/TlkWaterMeters/images/id_851_value_305_162.jpg</td>\n",
       "      <td>305.162</td>\n",
       "    </tr>\n",
       "    <tr>\n",
       "      <th>...</th>\n",
       "      <td>...</td>\n",
       "      <td>...</td>\n",
       "    </tr>\n",
       "    <tr>\n",
       "      <th>1239</th>\n",
       "      <td>https://tlk.s3.yandex.net/dataset/TlkWaterMeters/images/id_255_value_172_542.jpg</td>\n",
       "      <td>172.542</td>\n",
       "    </tr>\n",
       "    <tr>\n",
       "      <th>1240</th>\n",
       "      <td>https://tlk.s3.yandex.net/dataset/TlkWaterMeters/images/id_878_value_97_299.jpg</td>\n",
       "      <td>97.299</td>\n",
       "    </tr>\n",
       "    <tr>\n",
       "      <th>1241</th>\n",
       "      <td>https://tlk.s3.yandex.net/dataset/TlkWaterMeters/images/id_649_value_146_443.jpg</td>\n",
       "      <td>146.443</td>\n",
       "    </tr>\n",
       "    <tr>\n",
       "      <th>1242</th>\n",
       "      <td>https://tlk.s3.yandex.net/dataset/TlkWaterMeters/images/id_396_value_228_944.jpg</td>\n",
       "      <td>228.944</td>\n",
       "    </tr>\n",
       "    <tr>\n",
       "      <th>1243</th>\n",
       "      <td>https://tlk.s3.yandex.net/dataset/TlkWaterMeters/images/id_1212_value_657_222.jpg</td>\n",
       "      <td>657.222</td>\n",
       "    </tr>\n",
       "  </tbody>\n",
       "</table>\n",
       "<p>1244 rows × 2 columns</p>\n",
       "</div>"
      ],
      "text/plain": [
       "                                                                              image_url  \\\n",
       "0       https://tlk.s3.yandex.net/dataset/TlkWaterMeters/images/id_53_value_595_825.jpg   \n",
       "1       https://tlk.s3.yandex.net/dataset/TlkWaterMeters/images/id_553_value_65_475.jpg   \n",
       "2        https://tlk.s3.yandex.net/dataset/TlkWaterMeters/images/id_407_value_21_86.jpg   \n",
       "3      https://tlk.s3.yandex.net/dataset/TlkWaterMeters/images/id_252_value_313_322.jpg   \n",
       "4      https://tlk.s3.yandex.net/dataset/TlkWaterMeters/images/id_851_value_305_162.jpg   \n",
       "...                                                                                 ...   \n",
       "1239   https://tlk.s3.yandex.net/dataset/TlkWaterMeters/images/id_255_value_172_542.jpg   \n",
       "1240    https://tlk.s3.yandex.net/dataset/TlkWaterMeters/images/id_878_value_97_299.jpg   \n",
       "1241   https://tlk.s3.yandex.net/dataset/TlkWaterMeters/images/id_649_value_146_443.jpg   \n",
       "1242   https://tlk.s3.yandex.net/dataset/TlkWaterMeters/images/id_396_value_228_944.jpg   \n",
       "1243  https://tlk.s3.yandex.net/dataset/TlkWaterMeters/images/id_1212_value_657_222.jpg   \n",
       "\n",
       "        value  \n",
       "0     595.825  \n",
       "1      65.475  \n",
       "2       21.86  \n",
       "3     313.322  \n",
       "4     305.162  \n",
       "...       ...  \n",
       "1239  172.542  \n",
       "1240   97.299  \n",
       "1241  146.443  \n",
       "1242  228.944  \n",
       "1243  657.222  \n",
       "\n",
       "[1244 rows x 2 columns]"
      ]
     },
     "metadata": {}
    }
   ],
   "metadata": {}
  },
  {
   "cell_type": "markdown",
   "source": [
    "Lets look at the images from this dataset:   \n",
    "\n",
    "<table  align=\"center\">\n",
    "  <tr>\n",
    "  <td>\n",
    "    <img src=\"https://tlk.s3.yandex.net/dataset/TlkWaterMeters/images/id_53_value_595_825.jpg\" alt=\"value 595.825\">\n",
    "  </td>\n",
    "  <td>\n",
    "    <img src=\"https://tlk.s3.yandex.net/dataset/TlkWaterMeters/images/id_553_value_65_475.jpg\" alt=\"value 65.475\">\n",
    "  </td>\n",
    "  <td>\n",
    "    <img src=\"https://tlk.s3.yandex.net/dataset/TlkWaterMeters/images/id_407_value_21_86.jpg\" alt=\"value 21.860\">\n",
    "  </td>\n",
    "  </tr>\n",
    "  <tr><td align=\"center\" colspan=\"3\">\n",
    "    <b>Figure 1.</b> Images from dataset\n",
    "  </td></tr>\n",
    "</table>"
   ],
   "metadata": {}
  },
  {
   "cell_type": "markdown",
   "source": [
    "Split this dataset into three parts\n",
    "- Training tasks - we'll put them into training. This type of task must contain ground truth and hint about how to perform it.\n",
    "- Golden tasks - we'll put it into the regular pool. This type of task must contain ground truth.\n",
    "- Regular tasks - for regular pool. Only image url as input."
   ],
   "metadata": {}
  },
  {
   "cell_type": "code",
   "execution_count": 9,
   "source": [
    "raw_dataset = raw_dataset.sample(frac=1).reset_index(drop=True)\n",
    "\n",
    "training_dataset, golden_dataset, main_dataset, _ = np.split(raw_dataset, [10, 20, 120], axis=0)\n",
    "print(f'training_dataset - {len(training_dataset)}')\n",
    "print(f'golden_dataset - {len(golden_dataset)}')\n",
    "print(f'main_dataset - {len(main_dataset)}')"
   ],
   "outputs": [
    {
     "output_type": "stream",
     "name": "stdout",
     "text": [
      "training_dataset - 10\n",
      "golden_dataset - 10\n",
      "main_dataset - 100\n"
     ]
    }
   ],
   "metadata": {}
  },
  {
   "cell_type": "markdown",
   "source": [
    "## Create a training pool\n",
    "> Training is an essential part of almost every crowdsourcing project. It allows you to select performers who have really mastered the task, and thus improve quality. Training is also a great tool for scaling your task because you can run it any time you need new performers. \n",
    "\n",
    "Read more about [selecting performers](https://toloka.ai/knowledgebase/quality-control) in our Knowledge Base."
   ],
   "metadata": {}
  },
  {
   "cell_type": "code",
   "execution_count": null,
   "source": [
    "training = toloka.Training(\n",
    "    project_id=project.id,\n",
    "    private_name='Text recognition training',\n",
    "    may_contain_adult_content=False,\n",
    "    assignment_max_duration_seconds=60*10,\n",
    "    mix_tasks_in_creation_order=False,\n",
    "    shuffle_tasks_in_task_suite=False,\n",
    "    training_tasks_in_task_suite_count=2,\n",
    "    task_suites_required_to_pass=5,\n",
    "    retry_training_after_days=5,\n",
    "    inherited_instructions=True,\n",
    ")\n",
    "training = toloka_client.create_training(training)"
   ],
   "outputs": [],
   "metadata": {}
  },
  {
   "cell_type": "markdown",
   "source": [
    "Upload training tasks to the pool.\n",
    "> It’s important to include examples for all сases in the training. Make sure the training set is balanced and the comments explain why an answer is correct. Don’t just name the correct answers. "
   ],
   "metadata": {}
  },
  {
   "cell_type": "code",
   "execution_count": 11,
   "source": [
    "training_tasks = [\n",
    "    toloka.Task(\n",
    "        pool_id=training.id,\n",
    "        input_values={'image_url': row.image_url},\n",
    "        known_solutions = [toloka.task.BaseTask.KnownSolution(output_values={'value': row.value})],\n",
    "        message_on_unknown_solution=f'Black section is {row.value.split(\".\")[0]}. Red section is {row.value.split(\".\")[1]}.',\n",
    "    )\n",
    "    for row in training_dataset.itertuples()\n",
    "]\n",
    "result = toloka_client.create_tasks(training_tasks, allow_defaults=True)\n",
    "print(len(result.items))"
   ],
   "outputs": [
    {
     "output_type": "stream",
     "name": "stdout",
     "text": [
      "10\n"
     ]
    }
   ],
   "metadata": {}
  },
  {
   "cell_type": "markdown",
   "source": [
    "## Create the main pool\n",
    "A pool is a set of paid tasks grouped into task pages. These tasks are sent out for completion at the same time.\n",
    "\n",
    "> All tasks within a pool have the same settings (price, quality control, etc.)"
   ],
   "metadata": {}
  },
  {
   "cell_type": "code",
   "execution_count": 12,
   "source": [
    "pool = toloka.Pool(\n",
    "    project_id=project.id,\n",
    "    # Give the pool any convenient name. You are the only one who will see it.\n",
    "    private_name='Write down the digits in an image.',\n",
    "    may_contain_adult_content=False,\n",
    "    # Set the price per task page.\n",
    "    reward_per_assignment=0.02,\n",
    "    will_expire=datetime.datetime.utcnow() + datetime.timedelta(days=365),\n",
    "    # Overlap. This is the number of users who will complete the same task.\n",
    "    defaults=toloka.Pool.Defaults(default_overlap_for_new_task_suites=3),\n",
    "    # Time allowed for completing a task page\n",
    "    assignment_max_duration_seconds=600,\n",
    ")"
   ],
   "outputs": [],
   "metadata": {}
  },
  {
   "cell_type": "markdown",
   "source": [
    "- Read more about [pricing principles](https://toloka.ai/knowledgebase/pricing) in our Knowledge Base.\n",
    "- To understand [how overlap works](https://yandex.com/support/toloka-requester/concepts/mvote.html), go to the Requester’s Guide.  \n",
    "- To understand how much time it should take to complete a task suite, try doing it yourself."
   ],
   "metadata": {}
  },
  {
   "cell_type": "markdown",
   "source": [
    "Attach the training you created earlier and select the accuracy level that is required to reach the main pool."
   ],
   "metadata": {}
  },
  {
   "cell_type": "code",
   "execution_count": 13,
   "source": [
    "pool.set_training_requirement(training_pool_id=training.id, training_passing_skill_value=75)"
   ],
   "outputs": [],
   "metadata": {}
  },
  {
   "cell_type": "markdown",
   "source": [
    "Select English-speaking performers"
   ],
   "metadata": {}
  },
  {
   "cell_type": "code",
   "execution_count": 14,
   "source": [
    "pool.filter = toloka.filter.Languages.in_('EN')"
   ],
   "outputs": [],
   "metadata": {}
  },
  {
   "cell_type": "markdown",
   "source": [
    "Set up [Quality control](https://yandex.com/support/toloka-requester/concepts/control.html). Ban performers who give incorrect responses to control tasks.\n",
    "\n",
    "> Since tasks such as these have an answer that can be used as ground truth, we can use standard quality control rules like golden sets.\n",
    "\n",
    "Read more about [quality control principles](https://toloka.ai/knowledgebase/quality-control) in our Knowledge Base or check out [control tasks settings](https://yandex.com/support/toloka-requester/concepts/goldenset.html) in the Requester’s Guide."
   ],
   "metadata": {}
  },
  {
   "cell_type": "code",
   "execution_count": 15,
   "source": [
    "pool.quality_control.add_action(\n",
    "    collector=toloka.collectors.GoldenSet(),\n",
    "    conditions=[\n",
    "        toloka.conditions.GoldenSetCorrectAnswersRate < 80.0,\n",
    "        toloka.conditions.GoldenSetAnswersCount >= 3\n",
    "    ],\n",
    "    action=toloka.actions.RestrictionV2(\n",
    "        scope='PROJECT',\n",
    "        duration=2,\n",
    "        duration_unit='DAYS',\n",
    "        private_comment='Control tasks failed'\n",
    "    )\n",
    ")\n",
    "\n",
    "pool.quality_control.add_action(\n",
    "    collector=toloka.collectors.AssignmentSubmitTime(history_size=5, fast_submit_threshold_seconds=7),\n",
    "    conditions=[toloka.conditions.FastSubmittedCount >= 1],\n",
    "    action=toloka.actions.RestrictionV2(\n",
    "        scope='PROJECT',\n",
    "        duration=2,\n",
    "        duration_unit='DAYS',\n",
    "        private_comment='Fast response'\n",
    "    ))"
   ],
   "outputs": [],
   "metadata": {}
  },
  {
   "cell_type": "markdown",
   "source": [
    "Specify\tthe number of tasks per page. For example: 3 main tasks and 1 control task.\n",
    "\n",
    "> We recommend putting as many tasks on one page as a performer can complete in 1 to 5 minutes. That way, performers are less likely to get tired, and they won’t lose a significant amount of data if a technical issue occurs. \n",
    "\n",
    "To learn more about [grouping tasks](https://yandex.com/support/search-results/?service=toloka-requester&query=smart+mixing) into suites, read the Requester’s Guide. "
   ],
   "metadata": {}
  },
  {
   "cell_type": "code",
   "execution_count": 16,
   "source": [
    "pool.set_mixer_config(\n",
    "    real_tasks_count=3,\n",
    "    golden_tasks_count=1\n",
    ")"
   ],
   "outputs": [],
   "metadata": {}
  },
  {
   "cell_type": "markdown",
   "source": [
    "Create pool"
   ],
   "metadata": {}
  },
  {
   "cell_type": "code",
   "execution_count": null,
   "source": [
    "pool = toloka_client.create_pool(pool)"
   ],
   "outputs": [],
   "metadata": {}
  },
  {
   "cell_type": "markdown",
   "source": [
    "**Uploading tasks**\n",
    "\n",
    "Create control tasks. In small pools, control tasks should account for 10–20% of all tasks.\n",
    "\n",
    "> Control tasks are tasks that already contain the correct response. They are used for checking the quality of responses from performers. The performer's response is compared to the response you provided. If they match, it means the performer answered correctly.\n",
    "> Make sure to include different variations of correct responses in equal amounts.\n",
    "\n",
    "To learn more about [creating control tasks](https://yandex.com/support/toloka-requester/concepts/task_markup.html), go to the Requester’s Guide."
   ],
   "metadata": {}
  },
  {
   "cell_type": "code",
   "execution_count": 18,
   "source": [
    "golden_tasks = [\n",
    "    toloka.Task(\n",
    "        pool_id=pool.id,\n",
    "        input_values={'image_url': row.image_url},\n",
    "        known_solutions = [\n",
    "            toloka.task.BaseTask.KnownSolution(\n",
    "                output_values={'value': row.value}\n",
    "            )\n",
    "        ],\n",
    "        infinite_overlap=True,\n",
    "    )\n",
    "    for row in golden_dataset.itertuples()\n",
    "]"
   ],
   "outputs": [],
   "metadata": {}
  },
  {
   "cell_type": "markdown",
   "source": [
    "Create pool tasks"
   ],
   "metadata": {}
  },
  {
   "cell_type": "code",
   "execution_count": 19,
   "source": [
    "tasks = [\n",
    "    toloka.Task(\n",
    "        pool_id=pool.id,\n",
    "        input_values={'image_url': url},\n",
    "    )\n",
    "    for url in main_dataset['image_url']\n",
    "]"
   ],
   "outputs": [],
   "metadata": {}
  },
  {
   "cell_type": "markdown",
   "source": [
    "Upload tasks"
   ],
   "metadata": {}
  },
  {
   "cell_type": "code",
   "execution_count": 20,
   "source": [
    "created_tasks = toloka_client.create_tasks(golden_tasks + tasks, allow_defaults=True)\n",
    "print(len(created_tasks.items))"
   ],
   "outputs": [
    {
     "output_type": "stream",
     "name": "stdout",
     "text": [
      "110\n"
     ]
    }
   ],
   "metadata": {}
  },
  {
   "cell_type": "markdown",
   "source": [
    "You can visit created pool in web-interface and preview tasks and control tasks.\n",
    "\n",
    "<table  align=\"center\">\n",
    "  <tr>\n",
    "  <td>\n",
    "    <img src=\"./img/performer_interface.png\" alt=\"Possible performer interface\">\n",
    "  </td>\n",
    "  </tr>\n",
    "  <tr><td align=\"center\">\n",
    "    <b>Figure 2.</b> Possible performer interface.\n",
    "  </td></tr>\n",
    "</table>"
   ],
   "metadata": {}
  },
  {
   "cell_type": "markdown",
   "source": [
    "Start the pool.\n",
    "\n",
    "**Important.** Remember that real Toloka performers will complete the tasks.\n",
    "Double check that everything is correct\n",
    "with your project configuration before you start the pool"
   ],
   "metadata": {}
  },
  {
   "cell_type": "code",
   "execution_count": null,
   "source": [
    "training = toloka_client.open_training(training.id)\n",
    "print(f'training - {training.status}')\n",
    "\n",
    "pool = toloka_client.open_pool(pool.id)\n",
    "print(f'main pool - {pool.status}')"
   ],
   "outputs": [],
   "metadata": {}
  },
  {
   "cell_type": "markdown",
   "source": [
    "## Receiving responses"
   ],
   "metadata": {}
  },
  {
   "cell_type": "markdown",
   "source": [
    "Wait until the pool is completed."
   ],
   "metadata": {}
  },
  {
   "cell_type": "code",
   "execution_count": null,
   "source": [
    "pool_id = pool.id\n",
    "\n",
    "def wait_pool_for_close(pool_id, minutes_to_wait=1):\n",
    "    sleep_time = 60 * minutes_to_wait\n",
    "    pool = toloka_client.get_pool(pool_id)\n",
    "    while not pool.is_closed():\n",
    "        op = toloka_client.get_analytics([toloka.analytics_request.CompletionPercentagePoolAnalytics(subject_id=pool.id)])\n",
    "        op = toloka_client.wait_operation(op)\n",
    "        percentage = op.details['value'][0]['result']['value']\n",
    "        logging.info(\n",
    "            f'   {datetime.datetime.now().strftime(\"%H:%M:%S\")}\\t'\n",
    "            f'Pool {pool.id} - {percentage}%'\n",
    "        )\n",
    "        time.sleep(sleep_time)\n",
    "        pool = toloka_client.get_pool(pool.id)\n",
    "    logging.info('Pool was closed.')\n",
    "\n",
    "wait_pool_for_close(pool_id)"
   ],
   "outputs": [],
   "metadata": {}
  },
  {
   "cell_type": "markdown",
   "source": [
    "Get responses\n",
    "\n",
    "When all the tasks are completed, look at the responses from performers."
   ],
   "metadata": {}
  },
  {
   "cell_type": "code",
   "execution_count": 29,
   "source": [
    "answers = []\n",
    "\n",
    "for assignment in toloka_client.get_assignments(pool_id=pool.id, status='ACCEPTED'):\n",
    "    for task, solution in zip(assignment.tasks, assignment.solutions):\n",
    "        if not task.known_solutions:\n",
    "            answers.append([task.input_values['image_url'], solution.output_values['value'], assignment.user_id])\n",
    "\n",
    "print(f'answers count: {len(answers)}')\n",
    "# Prepare dataframe\n",
    "answers_df = pandas.DataFrame(answers, columns=['task', 'text', 'performer'])"
   ],
   "outputs": [
    {
     "output_type": "stream",
     "name": "stdout",
     "text": [
      "answers count: 300\n"
     ]
    }
   ],
   "metadata": {}
  },
  {
   "cell_type": "markdown",
   "source": [
    "Aggregation results using the ROVER model impemented in [Crowd-Kit](https://github.com/Toloka/crowd-kit#crowd-kit-computational-quality-control-for-crowdsourcing)."
   ],
   "metadata": {}
  },
  {
   "cell_type": "code",
   "execution_count": 32,
   "source": [
    "rover_agg_df = ROVER(tokenizer=lambda x: list(x), detokenizer=lambda x: ''.join(x)).fit_predict(answers_df)"
   ],
   "outputs": [],
   "metadata": {}
  },
  {
   "cell_type": "markdown",
   "source": [
    "Look at the results.\n",
    "\n",
    "Some preparations for displaying the results"
   ],
   "metadata": {}
  },
  {
   "cell_type": "code",
   "execution_count": 35,
   "source": [
    "images = rover_agg_df.index.values\n",
    "labels = rover_agg_df.values\n",
    "start_with = 0"
   ],
   "outputs": [],
   "metadata": {}
  },
  {
   "cell_type": "markdown",
   "source": [
    "Note: The cell below can be run several times."
   ],
   "metadata": {}
  },
  {
   "cell_type": "code",
   "execution_count": null,
   "source": [
    "if start_with >= len(rover_agg_df):\n",
    "    logging.info('no more images')\n",
    "else:\n",
    "    ipyplot.plot_images(\n",
    "        images=images[start_with:],\n",
    "        labels=labels[start_with:],\n",
    "        max_images=8,\n",
    "        img_width=300,\n",
    "    )\n",
    "\n",
    "    start_with += 8"
   ],
   "outputs": [],
   "metadata": {}
  },
  {
   "cell_type": "markdown",
   "source": [
    "**You** can see the labeled images. Some possible results are shown in figure 3 below.\n",
    "\n",
    "<table  align=\"center\">\n",
    "  <tr><td>\n",
    "    <img src=\"./img/possible_result.png\"\n",
    "         alt=\"Possible results\">\n",
    "  </td></tr>\n",
    "  <tr><td align=\"center\">\n",
    "    <b>Figure 3.</b> Possible results.\n",
    "  </td></tr>\n",
    "</table>"
   ],
   "metadata": {
    "pycharm": {
     "name": "#%% md\n"
    }
   }
  }
 ],
 "metadata": {
  "kernelspec": {
   "display_name": "Python 3",
   "language": "python",
   "name": "python3"
  }
 },
 "nbformat": 4,
 "nbformat_minor": 4
}