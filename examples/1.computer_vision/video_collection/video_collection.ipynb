{
 "cells": [
  {
   "cell_type": "markdown",
   "source": [
    "# Video collection"
   ],
   "metadata": {}
  },
  {
   "cell_type": "markdown",
   "metadata": {},
   "source": [
    "To get acquainted with Toloka tools for free, you can use the promo code **TOLOKAKIT1** on $20 on your [profile page](https://toloka.yandex.com/requester/profile?utm_source=github&utm_medium=site&utm_campaign=tolokakit) after registration."
   ]
  },
  {
   "cell_type": "markdown",
   "source": [
    "Prepare the environment and import everything you'll need."
   ],
   "metadata": {}
  },
  {
   "cell_type": "code",
   "execution_count": null,
   "source": [
    "!pip install toloka-kit==0.1.14\n",
    "!pip install ipython\n",
    "\n",
    "import datetime\n",
    "import logging\n",
    "import sys\n",
    "import time\n",
    "\n",
    "import pandas\n",
    "\n",
    "import toloka.client as toloka\n",
    "import toloka.client.project.template_builder as tb\n",
    "\n",
    "logging.basicConfig(\n",
    "    format='[%(levelname)s] %(name)s: %(message)s',\n",
    "    level=logging.INFO,\n",
    "    stream=sys.stdout,\n",
    ")"
   ],
   "outputs": [],
   "metadata": {}
  },
  {
   "cell_type": "markdown",
   "source": [
    "Сreate toloka-client instance. All api calls will go through it. More about OAuth token in our [Learn the basics example](https://github.com/Toloka/toloka-kit/tree/main/examples/0.getting_started/0.learn_the_basics) [![Open In Colab](https://colab.research.google.com/assets/colab-badge.svg)](https://colab.research.google.com/github/Toloka/toloka-kit/blob/main/examples/0.getting_started/0.learn_the_basics/learn_the_basics.ipynb)"
   ],
   "metadata": {}
  },
  {
   "cell_type": "code",
   "execution_count": null,
   "source": [
    "toloka_client = toloka.TolokaClient(input(\"Enter your token:\"), 'PRODUCTION')  # Or switch to 'SANDBOX'\n",
    "print(toloka_client.get_requester())"
   ],
   "outputs": [],
   "metadata": {}
  },
  {
   "cell_type": "markdown",
   "source": [
    "## Create a project"
   ],
   "metadata": {}
  },
  {
   "cell_type": "code",
   "execution_count": null,
   "source": [
    "new_project = toloka.Project(\n",
    "    public_name='Record one 5 second video of a hand gesture',\n",
    "    public_description='Make a short video of you hand moving from one given gesture to another.',\n",
    ")"
   ],
   "outputs": [],
   "metadata": {}
  },
  {
   "cell_type": "markdown",
   "source": [
    "Configure the task interface.\n",
    "\n",
    "Read more about the [Template Builder](https://yandex.ru/support/toloka-tb/index.html?utm_source=github&utm_medium=site&utm_campaign=tolokakit) in the Requester’s Guide."
   ],
   "metadata": {}
  },
  {
   "cell_type": "code",
   "execution_count": null,
   "source": [
    "describe_text = \"\"\"Record a 5 second video with the following requirements:\\n\n",
    "1. Bright & solid background. Good light.\n",
    "2. Only 1 hand in the video! No other objects!\n",
    "3. Show all the following gestures:\\n\\n\"\"\"\n",
    "\n",
    "main_md = tb.MarkdownViewV1(\n",
    "    tb.JoinHelperV1([describe_text, '# ', tb.InputData('emoji1'), ' &#10145; ', tb.InputData('emoji2'), '\\n\\nExample:'])\n",
    ")\n",
    "\n",
    "example_gif = tb.ImageViewV1(tb.InputData('examplegif'), max_width=300)\n",
    "\n",
    "attention_md = tb.MarkdownViewV1(\"\"\"**Attention!**\n",
    "    If the video isn\\'t satisfactory, the task won\\'t be accepted.\n",
    "    Look at the instructions with examples.\"\"\"\n",
    ")\n",
    "\n",
    "video = tb.MediaFileFieldV1(\n",
    "    tb.OutputData('path'),\n",
    "    tb.MediaFileFieldV1.Accept(video=True),\n",
    "    validation=tb.RequiredConditionV1(hint='Add a video'),\n",
    "    multiple=False,\n",
    ")\n",
    "\n",
    "project_interface = toloka.project.TemplateBuilderViewSpec(\n",
    "    view=tb.ListViewV1([main_md, example_gif, attention_md, video]),\n",
    "    plugins=[tb.TolokaPluginV1('scroll', task_width=400)],\n",
    ")"
   ],
   "outputs": [],
   "metadata": {}
  },
  {
   "cell_type": "markdown",
   "source": [
    "Set data specification. And set task interface to project.\n",
    "> Specifications are a description of input data that will be used in a project and the output data that will be collected from the performers.\n",
    "\n",
    "Read more about [input and output data specifications](https://yandex.ru/support/toloka-tb/operations/create-specs.html?utm_source=github&utm_medium=site&utm_campaign=tolokakit) in the Requester’s Guide."
   ],
   "metadata": {}
  },
  {
   "cell_type": "code",
   "execution_count": null,
   "source": [
    "input_specification = {\n",
    "    'emoji1': toloka.project.JsonSpec(),\n",
    "    'emoji2': toloka.project.JsonSpec(),\n",
    "    'examplegif': toloka.project.UrlSpec(),\n",
    "}\n",
    "output_specification = {\n",
    "    'path': toloka.project.FileSpec(),\n",
    "}\n",
    "\n",
    "new_project.task_spec = toloka.project.task_spec.TaskSpec(\n",
    "        input_spec=input_specification,\n",
    "        output_spec=output_specification,\n",
    "        view_spec=project_interface,\n",
    ")"
   ],
   "outputs": [],
   "metadata": {}
  },
  {
   "cell_type": "markdown",
   "source": [
    "Write comprehensive instructions.\n",
    "\n",
    "> With video collection tasks, it’s extra important to specify all the necessary requirements (things like light, background, position, and more). Since we’ll be reviewing assignments, we need to describe all the requirements as clearly as possible. After all, task acceptance and the performers’ earnings depend on how well these instructions are written.\n",
    "\n",
    "Get more tips on [designing instructions](https://toloka.ai/knowledgebase/instruction?utm_source=github&utm_medium=site&utm_campaign=tolokakit) in our Knowledge Base."
   ],
   "metadata": {}
  },
  {
   "cell_type": "code",
   "execution_count": null,
   "source": [
    "new_project.public_instructions = \"\"\"Task - make one video where your hand is the actor.<br>\n",
    "You will get two emojis.<br>\n",
    "Make sure your face is not in the video.<br>\n",
    "<br>\n",
    "<h2>Video recording</h2>\n",
    "<ul>\n",
    "<li>Show the first emoji with your hand.</li>\n",
    "<li>Move or transfer your hand to show the second emoji.</li>\n",
    "</ul>\n",
    "Remember, all video will be checked after uploading. Therefore, each video must satisfy the several criteria.\n",
    "\"\"\""
   ],
   "outputs": [],
   "metadata": {}
  },
  {
   "cell_type": "markdown",
   "source": [
    "Create a project via API request."
   ],
   "metadata": {}
  },
  {
   "cell_type": "code",
   "execution_count": null,
   "source": [
    "new_project = toloka_client.create_project(new_project)"
   ],
   "outputs": [],
   "metadata": {}
  },
  {
   "cell_type": "markdown",
   "source": [
    "## Create a pool"
   ],
   "metadata": {}
  },
  {
   "cell_type": "markdown",
   "source": [
    "Create the “Record video of emoji” skill that will be assigned to users after they complete the pool tasks. You will use this skill later to assign skill value to performers who complete your task"
   ],
   "metadata": {}
  },
  {
   "cell_type": "code",
   "execution_count": null,
   "source": [
    "video_skill = next(toloka_client.get_skills(name='Record video of emoji'), None)\n",
    "if video_skill:\n",
    "    print('Detection skill already exists')\n",
    "else:\n",
    "    video_skill = toloka_client.create_skill(\n",
    "        name='Record video of emoji',\n",
    "        hidden=True,\n",
    "        public_requester_description={'EN': 'Performer is record video'},\n",
    "    )"
   ],
   "outputs": [],
   "metadata": {}
  },
  {
   "cell_type": "markdown",
   "source": [
    "A pool is a set of paid tasks grouped into task pages. These tasks are sent out for completion at the same time.\n",
    "\n",
    "> All tasks within a pool have the same settings (price, (price, quality control, etc.)\n",
    "\n",
    "Give the pool any name you find suitable. You are the only one who will see it.\n",
    "\n",
    "\n",
    "Set the price per task suite (for example, $0.03).\n",
    "\n",
    "> Video recording tasks may vary in price depending on the required effort. In our case, there are no extra requirements (like outdoor shooting), which means we can set a standard price.\n",
    "\n",
    "Read more about [pricing principles](https://toloka.ai/knowledgebase/pricing?utm_source=github&utm_medium=site&utm_campaign=tolokakit) in our Knowledge Base."
   ],
   "metadata": {}
  },
  {
   "cell_type": "code",
   "execution_count": null,
   "source": [
    "# Create a pool\n",
    "new_pool = toloka.Pool(\n",
    "    project_id=new_project.id,\n",
    "    private_name='Record one 5 second video of a hand gesture',\n",
    "    may_contain_adult_content=False,\n",
    "    will_expire=datetime.datetime.utcnow() + datetime.timedelta(days=365),\n",
    "    reward_per_assignment=0.03,\n",
    "    auto_accept_solutions=False,\n",
    "    auto_accept_period_day=1,\n",
    "    assignment_max_duration_seconds=60*15,\n",
    "    defaults=toloka.Pool.Defaults(default_overlap_for_new_task_suites=3),\n",
    "    filter=(\n",
    "        (toloka.filter.Languages.in_('EN')) &\n",
    "        (toloka.filter.ClientType == 'TOLOKA_APP') &\n",
    "        (\n",
    "            # This filter means that access to this pool will be granted either\n",
    "            # to newbies who don’t have the quality skill yet, or to those who\n",
    "            # submit at least 75% of tasks correctly.\n",
    "            (toloka.filter.Skill(video_skill.id) == None) |\n",
    "            (toloka.filter.Skill(video_skill.id) >= 75 )\n",
    "        )\n",
    "    ),\n",
    ")\n",
    "\n",
    "new_pool.set_mixer_config(real_tasks_count=1)"
   ],
   "outputs": [],
   "metadata": {}
  },
  {
   "cell_type": "markdown",
   "source": [
    "**Set up [Quality control](https://toloka.ai/docs/guide/concepts/control.html?utm_source=github&utm_medium=site&utm_campaign=tolokakit).**\n",
    "> Since there is no one true answer to a video recording task that can be used as ground truth, post-acceptance is the preferable way to check if the recordings provided are acceptable.\n",
    "\n",
    "Read more about [quality control principles](https://toloka.ai/knowledgebase/quality-control?utm_source=github&utm_medium=site&utm_campaign=tolokakit) in our Knowledge Base or check out [post-acceptance settings](https://toloka.ai/docs/guide/concepts/offline-accept.html) in the Requester’s Guide.\n",
    "\n",
    "\n",
    "Set up the Results of assignments review rule. Use this rule to assign a skill value to performers after a specific number of tasks is reviewed.\n",
    ">  A skill is a characteristic of the performer described by a number between 0 and 100.  In this case, you add the performers’ quality based on their task acceptance rate to the skill you created earlier.\n",
    "\n",
    "Read more about [performer skills](https://toloka.ai/docs/guide/concepts/nav.html?utm_source=github&utm_medium=site&utm_campaign=tolokakit) in the Requester’s Guide."
   ],
   "metadata": {}
  },
  {
   "cell_type": "code",
   "execution_count": null,
   "source": [
    "\"\"\"\n",
    "new_pool.quality_control.add_action(\n",
    "    collector=toloka.collectors.AcceptanceRate(),\n",
    "    conditions=[toloka.conditions.TotalAssignmentsCount > 2,],\n",
    "    action=toloka.actions.SetSkillFromOutputField(skill_id=video_skill.id, from_field='approvedAssignmentsRate'),\n",
    ")\n",
    "\"\"\""
   ],
   "outputs": [],
   "metadata": {}
  },
  {
   "cell_type": "markdown",
   "source": [
    "Set up the [Fast Responses](https://yandex.ru/support/toloka-requester/concepts/quick-answers.html?utm_source=github&utm_medium=site&utm_campaign=tolokakit) rule. If a performer gives a response too quickly (for example, it’s not possible to record and upload a video in 10 seconds), they will be banned from the pool."
   ],
   "metadata": {}
  },
  {
   "cell_type": "code",
   "execution_count": null,
   "source": [
    "new_pool.quality_control.add_action(\n",
    "    collector=toloka.collectors.AssignmentSubmitTime(fast_submit_threshold_seconds=10),\n",
    "    conditions=[toloka.conditions.FastSubmittedCount > 0],\n",
    "    action=toloka.actions.RestrictionV2(\n",
    "        scope=toloka.user_restriction.UserRestriction.PROJECT,\n",
    "        duration=3,\n",
    "        duration_unit='DAYS',\n",
    "        private_comment='Fast response',\n",
    "    )\n",
    ")"
   ],
   "outputs": [],
   "metadata": {}
  },
  {
   "cell_type": "markdown",
   "source": [
    "Create a pool."
   ],
   "metadata": {}
  },
  {
   "cell_type": "code",
   "execution_count": null,
   "source": [
    "new_pool = toloka_client.create_pool(new_pool)"
   ],
   "outputs": [],
   "metadata": {}
  },
  {
   "cell_type": "markdown",
   "source": [
    "Mobile devices will display the task like that:\n",
    "\n",
    "<table  align=\"center\">\n",
    "  <tr><td>\n",
    "    <img src=\"./img/performer_interface.png\"\n",
    "         alt=\"How performers will see your task on mobile\"  height=\"600\">\n",
    "  </td></tr>\n",
    "  <tr><td align=\"center\">\n",
    "    <b>Figure 1.</b> How performers will see your task on mobile\n",
    "  </td></tr>\n",
    "</table>\n",
    "\n",
    "Note: In preview mode you won't be able to upload an image and look at the result. This restriction is related to the preview features and doesn't affect performers."
   ],
   "metadata": {}
  },
  {
   "cell_type": "markdown",
   "source": [
    "## Prepare and upload a tasks\n",
    "This example uses a small data set with emojis and gifs.\n",
    "\n",
    "The dataset used is collected by Toloka team and distributed under a Creative Commons Attribution 4.0 International license\n",
    "[![License: CC BY 4.0](https://img.shields.io/badge/License-CC%20BY%204.0-lightgrey.svg)](https://creativecommons.org/licenses/by/4.0/)."
   ],
   "metadata": {}
  },
  {
   "cell_type": "code",
   "execution_count": 3,
   "source": [
    "!curl https://tlk.s3.yandex.net/dataset/video_emoji/data.tsv --output dataset.tsv\n",
    "\n",
    "dataset = pandas.read_csv('dataset.tsv', sep='\\t')\n",
    "print(dataset)"
   ],
   "outputs": [
    {
     "output_type": "stream",
     "name": "stdout",
     "text": [
      "  % Total    % Received % Xferd  Average Speed   Time    Time     Time  Current\n",
      "                                 Dload  Upload   Total   Spent    Left  Speed\n",
      "100   400  100   400    0     0   2597      0 --:--:-- --:--:-- --:--:--  2597\n",
      "      emoji1     emoji2                                         examplegif\n",
      "0  &#128077;  &#128078;  https://tlk.s3.yandex.net/dataset/video_emoji/...\n",
      "1  &#128075;    &#9757;  https://tlk.s3.yandex.net/dataset/video_emoji/...\n",
      "2  &#128078;    &#9996;  https://tlk.s3.yandex.net/dataset/video_emoji/...\n",
      "3    &#9996;  &#128070;  https://tlk.s3.yandex.net/dataset/video_emoji/...\n"
     ]
    }
   ],
   "metadata": {}
  },
  {
   "cell_type": "markdown",
   "source": [
    "Not pretty much. Lets look at them closer."
   ],
   "metadata": {}
  },
  {
   "cell_type": "code",
   "execution_count": 4,
   "source": [
    "from html import unescape\n",
    "\n",
    "for row in dataset.itertuples():\n",
    "    print(f'{unescape(row.emoji1)} -> {unescape(row.emoji2)}')"
   ],
   "outputs": [
    {
     "output_type": "stream",
     "name": "stdout",
     "text": [
      "👍 -> 👎\n",
      "👋 -> ☝\n",
      "👎 -> ✌\n",
      "✌ -> 👆\n"
     ]
    }
   ],
   "metadata": {}
  },
  {
   "cell_type": "markdown",
   "source": [
    "<table  align=\"center\">\n",
    "  <tr><td>\n",
    "    <img src=\"https://tlk.s3.yandex.net/dataset/video_emoji/video/biguptobigdown.gif\"\n",
    "         alt=\"Example gif for performers\"  height=\"600\">\n",
    "  </td></tr>\n",
    "  <tr><td align=\"center\">\n",
    "    <b>Figure 2.</b> Example gif for performers\n",
    "  </td></tr>\n",
    "</table>"
   ],
   "metadata": {}
  },
  {
   "cell_type": "markdown",
   "source": [
    "Prepare tasks."
   ],
   "metadata": {}
  },
  {
   "cell_type": "code",
   "execution_count": null,
   "source": [
    "tasks = [\n",
    "    toloka.Task(\n",
    "        pool_id=new_pool.id,\n",
    "        input_values={\n",
    "            'emoji1': row.emoji1,\n",
    "            'emoji2': row.emoji2,\n",
    "            'examplegif': row.examplegif,\n",
    "        },\n",
    "    )\n",
    "    for row in dataset.itertuples()\n",
    "]"
   ],
   "outputs": [],
   "metadata": {}
  },
  {
   "cell_type": "markdown",
   "source": [
    "Upload tasks"
   ],
   "metadata": {}
  },
  {
   "cell_type": "code",
   "execution_count": null,
   "source": [
    "created_tasks = toloka_client.create_tasks(tasks, allow_defaults=True)\n",
    "print(len(created_tasks.items))"
   ],
   "outputs": [],
   "metadata": {}
  },
  {
   "cell_type": "markdown",
   "source": [
    "Start the pool.\n",
    "\n",
    "**Important.** Remember that real Toloka performers will complete the tasks.\n",
    "Double check that everything is correct with your project configuration before you start the pool."
   ],
   "metadata": {}
  },
  {
   "cell_type": "code",
   "execution_count": null,
   "source": [
    "new_pool = toloka_client.open_pool(new_pool.id)\n",
    "print(new_pool.status)"
   ],
   "outputs": [],
   "metadata": {}
  },
  {
   "cell_type": "markdown",
   "source": [
    "## Receiving responses\n",
    "\n",
    "Wait until the pool is completed."
   ],
   "metadata": {}
  },
  {
   "cell_type": "code",
   "execution_count": null,
   "source": [
    "pool_id = new_pool.id\n",
    "def wait_pool_for_close(pool_id, minutes_to_wait=1):\n",
    "    sleep_time = 60 * minutes_to_wait\n",
    "    pool = toloka_client.get_pool(pool_id)\n",
    "    while not pool.is_closed():\n",
    "        op = toloka_client.get_analytics([toloka.analytics_request.CompletionPercentagePoolAnalytics(subject_id=pool.id)])\n",
    "        op = toloka_client.wait_operation(op)\n",
    "        percentage = op.details['value'][0]['result']['value']\n",
    "        print(\n",
    "            f'   {datetime.datetime.now().strftime(\"%H:%M:%S\")}\\t'\n",
    "            f'Pool {pool.id} - {percentage}%'\n",
    "        )\n",
    "        time.sleep(sleep_time)\n",
    "        pool = toloka_client.get_pool(pool.id)\n",
    "    print('Pool was closed.')\n",
    "\n",
    "wait_pool_for_close(pool_id)"
   ],
   "outputs": [],
   "metadata": {}
  },
  {
   "cell_type": "markdown",
   "source": [
    "Since the main quality control method for this kind of task is post-acceptance, you will need to review the tasks after the pool is completed.\n",
    "\n",
    "You can check the quality of responses and reject and reevaluate incorrect assignments. Performers will get paid only after their assignment is accepted.\n",
    "\n",
    "There are two ways to review assignments:\n",
    "\n",
    "    – manually\n",
    "    – in a separate Toloka project\n",
    "\n",
    "> Read more about [processing rejected assignments](https://toloka.ai/docs/guide/concepts/reassessment-after-accepting.html?utm_source=github&utm_medium=site&utm_campaign=tolokakit) in our Requester’s Guide.\n",
    "\n",
    "Another way to review tasks is to ask other performers to do that. We recommend this option when you have limited resources for checking tasks yourself. Check how it's done in our [object detection example.](https://github.com/Toloka/toloka-kit/tree/main/examples/1.computer_vision/object_detection) [![Open In Colab](https://colab.research.google.com/assets/colab-badge.svg)](https://colab.research.google.com/github/Toloka/toloka-kit/blob/main/examples/1.computer_vision/object_detection/object_detection.ipynb)"
   ],
   "metadata": {}
  },
  {
   "cell_type": "markdown",
   "source": [
    "## Showing results\n",
    "\n",
    "Configure data display."
   ],
   "metadata": {}
  },
  {
   "cell_type": "code",
   "execution_count": null,
   "source": [
    "from IPython import display\n",
    "\n",
    "results_list = []\n",
    "\n",
    "for assignment in toloka_client.get_assignments(pool_id=pool_id, status='SUBMITTED'):\n",
    "    for solution in assignment.solutions:\n",
    "        results_list.append(solution.output_values)\n",
    "print(len(results_list))\n",
    "results_iter = iter(results_list)"
   ],
   "outputs": [],
   "metadata": {
    "tags": []
   }
  },
  {
   "cell_type": "markdown",
   "source": [
    "Run the cell below multiple times to see different responses."
   ],
   "metadata": {}
  },
  {
   "cell_type": "code",
   "execution_count": null,
   "source": [
    "res = next(results_iter, None)\n",
    "if res is not None:\n",
    "    with open('tmp_video_file', 'w+b') as out_f:\n",
    "        toloka_client.download_attachment(res['path'], out_f)\n",
    "else:\n",
    "    print('No more results')\n",
    "\n",
    "display.Video(\"./tmp_video_file\", height=300)"
   ],
   "outputs": [],
   "metadata": {}
  }
 ],
 "metadata": {
  "kernelspec": {
   "display_name": "Python 3",
   "language": "python",
   "name": "python3"
  },
  "language_info": {
   "name": "python",
   "version": "3.7.5",
   "mimetype": "text/x-python",
   "codemirror_mode": {
    "name": "ipython",
    "version": 3
   },
   "pygments_lexer": "ipython3",
   "nbconvert_exporter": "python",
   "file_extension": ".py"
  }
 },
 "nbformat": 4,
 "nbformat_minor": 4
}
