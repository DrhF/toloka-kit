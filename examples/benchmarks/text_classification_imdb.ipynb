{
  "cells": [
    {
      "cell_type": "markdown",
      "source": [
        "# Image classification on IMDB movie reviews\n",
        "\n",
        "Dataset source: https://ai.stanford.edu/~amaas/data/sentiment/\n",
        "\n",
        "Paper: https://aclanthology.org/P11-1015"
      ],
      "metadata": {}
    },
    {
      "cell_type": "markdown",
      "source": [
        "## Install dependencies and import"
      ],
      "metadata": {}
    },
    {
      "cell_type": "code",
      "execution_count": null,
      "source": [
        "!pip3 install crowd-kit==0.0.5\n",
        "!pip3 install toloka-kit==0.1.13"
      ],
      "outputs": [],
      "metadata": {
        "trusted": false
      }
    },
    {
      "cell_type": "code",
      "execution_count": 1,
      "source": [
        "import datetime\n",
        "import time\n",
        "import pandas as pd\n",
        "import numpy as np\n",
        "from sklearn.metrics import balanced_accuracy_score\n",
        "import os\n",
        "import logging\n",
        "import sys\n",
        "import requests\n",
        "from tqdm.auto import tqdm\n",
        "\n",
        "import toloka.client as toloka\n",
        "import toloka.client.project.template_builder as tb\n",
        "\n",
        "from crowdkit.aggregation import DawidSkene\n",
        "%matplotlib inline\n",
        "pd.options.display.max_colwidth = 300"
      ],
      "outputs": [],
      "metadata": {}
    },
    {
      "cell_type": "code",
      "execution_count": 2,
      "source": [
        "logging.basicConfig(\n",
        "    format='[%(levelname)s] %(name)s: %(message)s',\n",
        "    level=logging.INFO,\n",
        "    stream=sys.stdout,\n",
        ")"
      ],
      "outputs": [],
      "metadata": {}
    },
    {
      "cell_type": "markdown",
      "source": [
        "#  Load dataset"
      ],
      "metadata": {}
    },
    {
      "cell_type": "code",
      "execution_count": 3,
      "source": [
        "N_ROWS = 1000"
      ],
      "outputs": [],
      "metadata": {}
    },
    {
      "cell_type": "code",
      "execution_count": 27,
      "source": [
        "def sample_stratified(df, label_column, n_rows):\n",
        "    \"\"\"Function to sample n_rows from a dataframe while presenving class distribution\"\"\"\n",
        "    return df.groupby(label_column, group_keys=False) \\\n",
        "            .apply(lambda x: x.sample(int(np.rint(n_rows*len(x)/len(df))))) \\\n",
        "            .sample(frac=1)\n",
        "\n",
        "base_url = 'https://tlk.s3.yandex.net/ext_dataset/aclImdb'\n",
        "df = pd.read_csv(os.path.join(base_url, 'test.csv'))\n",
        "df_control = sample_stratified(df, 'label', n_rows=100)\n",
        "df = df.drop(df_control.index)\n",
        "df_training = sample_stratified(df, 'label', n_rows=10)\n",
        "df = df.drop(df_training.index)\n",
        "df = sample_stratified(df, 'label', n_rows=N_ROWS)\n",
        "df_control = df_control.reset_index(drop=True)\n",
        "df = df.reset_index(drop=True)\n",
        "df.head()"
      ],
      "outputs": [
        {
          "output_type": "execute_result",
          "data": {
            "text/html": [
              "<div>\n",
              "<style scoped>\n",
              "    .dataframe tbody tr th:only-of-type {\n",
              "        vertical-align: middle;\n",
              "    }\n",
              "\n",
              "    .dataframe tbody tr th {\n",
              "        vertical-align: top;\n",
              "    }\n",
              "\n",
              "    .dataframe thead th {\n",
              "        text-align: right;\n",
              "    }\n",
              "</style>\n",
              "<table border=\"1\" class=\"dataframe\">\n",
              "  <thead>\n",
              "    <tr style=\"text-align: right;\">\n",
              "      <th></th>\n",
              "      <th>path</th>\n",
              "      <th>label</th>\n",
              "    </tr>\n",
              "  </thead>\n",
              "  <tbody>\n",
              "    <tr>\n",
              "      <th>0</th>\n",
              "      <td>test/neg/3571_3.txt</td>\n",
              "      <td>neg</td>\n",
              "    </tr>\n",
              "    <tr>\n",
              "      <th>1</th>\n",
              "      <td>test/neg/4311_2.txt</td>\n",
              "      <td>neg</td>\n",
              "    </tr>\n",
              "    <tr>\n",
              "      <th>2</th>\n",
              "      <td>test/pos/8424_9.txt</td>\n",
              "      <td>pos</td>\n",
              "    </tr>\n",
              "    <tr>\n",
              "      <th>3</th>\n",
              "      <td>test/neg/9456_4.txt</td>\n",
              "      <td>neg</td>\n",
              "    </tr>\n",
              "    <tr>\n",
              "      <th>4</th>\n",
              "      <td>test/neg/3853_1.txt</td>\n",
              "      <td>neg</td>\n",
              "    </tr>\n",
              "  </tbody>\n",
              "</table>\n",
              "</div>"
            ],
            "text/plain": [
              "                  path label\n",
              "0  test/neg/3571_3.txt   neg\n",
              "1  test/neg/4311_2.txt   neg\n",
              "2  test/pos/8424_9.txt   pos\n",
              "3  test/neg/9456_4.txt   neg\n",
              "4  test/neg/3853_1.txt   neg"
            ]
          },
          "metadata": {},
          "execution_count": 27
        }
      ],
      "metadata": {
        "trusted": false
      }
    },
    {
      "cell_type": "code",
      "execution_count": 28,
      "source": [
        "df.label.value_counts()"
      ],
      "outputs": [
        {
          "output_type": "execute_result",
          "data": {
            "text/plain": [
              "neg    500\n",
              "pos    500\n",
              "Name: label, dtype: int64"
            ]
          },
          "metadata": {},
          "execution_count": 28
        }
      ],
      "metadata": {
        "trusted": false
      }
    },
    {
      "cell_type": "code",
      "execution_count": 29,
      "source": [
        "def load_texts(urls):\n",
        "    texts = []\n",
        "    for url in tqdm(urls):\n",
        "        resp = requests.get(url)\n",
        "        texts.append(resp.text)\n",
        "    return texts\n",
        "\n",
        "df_control['text'] = load_texts(base_url + '/' + df_control.path)\n",
        "df_training['text'] = load_texts(base_url + '/' + df_training.path)\n",
        "df['text'] = load_texts(base_url + '/' + df.path)"
      ],
      "outputs": [
        {
          "output_type": "stream",
          "name": "stderr",
          "text": [
            "100%|██████████| 100/100 [00:11<00:00,  8.87it/s]\n",
            "100%|██████████| 10/10 [00:01<00:00,  7.74it/s]\n",
            "100%|██████████| 1000/1000 [02:04<00:00,  8.04it/s]\n"
          ]
        }
      ],
      "metadata": {}
    },
    {
      "cell_type": "code",
      "execution_count": 30,
      "source": [
        "df.head()"
      ],
      "outputs": [
        {
          "output_type": "execute_result",
          "data": {
            "text/html": [
              "<div>\n",
              "<style scoped>\n",
              "    .dataframe tbody tr th:only-of-type {\n",
              "        vertical-align: middle;\n",
              "    }\n",
              "\n",
              "    .dataframe tbody tr th {\n",
              "        vertical-align: top;\n",
              "    }\n",
              "\n",
              "    .dataframe thead th {\n",
              "        text-align: right;\n",
              "    }\n",
              "</style>\n",
              "<table border=\"1\" class=\"dataframe\">\n",
              "  <thead>\n",
              "    <tr style=\"text-align: right;\">\n",
              "      <th></th>\n",
              "      <th>path</th>\n",
              "      <th>label</th>\n",
              "      <th>text</th>\n",
              "    </tr>\n",
              "  </thead>\n",
              "  <tbody>\n",
              "    <tr>\n",
              "      <th>0</th>\n",
              "      <td>test/neg/3571_3.txt</td>\n",
              "      <td>neg</td>\n",
              "      <td>Upon writing this review I have difficulty trying to think of what to write about. Nothing much happens in this film. The storyline is a South Asian woman who falls for an English Londoner. The problem is he and his friends have had a racist streak. At the same time her friend at work is unknowi...</td>\n",
              "    </tr>\n",
              "    <tr>\n",
              "      <th>1</th>\n",
              "      <td>test/neg/4311_2.txt</td>\n",
              "      <td>neg</td>\n",
              "      <td>What a clunker!&lt;br /&gt;&lt;br /&gt;It MUST have been made for TV or Cable.&lt;br /&gt;&lt;br /&gt;Look: forget the screenplay - forget the bunch of forgettable actors. Excuse me? Continuity? The NSA/NIA/whatever or whoever he is (an agent) takes-off in an F16 - is shown in an F18 chucking his guts up and, later, th...</td>\n",
              "    </tr>\n",
              "    <tr>\n",
              "      <th>2</th>\n",
              "      <td>test/pos/8424_9.txt</td>\n",
              "      <td>pos</td>\n",
              "      <td>This review has been written by someone who has read it (several times) and knows what they are talking about!. Firstly I have read others comments and noticed that some of the objections were really quite stupid. People who have read the book and other Jane Austens or for that matter any good b...</td>\n",
              "    </tr>\n",
              "    <tr>\n",
              "      <th>3</th>\n",
              "      <td>test/neg/9456_4.txt</td>\n",
              "      <td>neg</td>\n",
              "      <td>Ouch!! What a mess we have here. Not so much of a mess as a painfully dull, half-assed excuse for exploitation. Brought to you by the one and only, J. G. \"Pat\" Patterson, yeah, the same one from Moonshine Mountain. Doctor Gore, formerly known as The Body Shop, is, I guess, somewhat inspired by F...</td>\n",
              "    </tr>\n",
              "    <tr>\n",
              "      <th>4</th>\n",
              "      <td>test/neg/3853_1.txt</td>\n",
              "      <td>neg</td>\n",
              "      <td>I am almost tempted to demand my money back from the video store. This movie plumbs the depths of inanity and is almost completely unwatchable. I NEVER bail out of a film early but this was painful to view. A thorough waste of celluloid. My vote 1/10 (it would have been zero).</td>\n",
              "    </tr>\n",
              "  </tbody>\n",
              "</table>\n",
              "</div>"
            ],
            "text/plain": [
              "                  path label  \\\n",
              "0  test/neg/3571_3.txt   neg   \n",
              "1  test/neg/4311_2.txt   neg   \n",
              "2  test/pos/8424_9.txt   pos   \n",
              "3  test/neg/9456_4.txt   neg   \n",
              "4  test/neg/3853_1.txt   neg   \n",
              "\n",
              "                                                                                                                                                                                                                                                                                                          text  \n",
              "0  Upon writing this review I have difficulty trying to think of what to write about. Nothing much happens in this film. The storyline is a South Asian woman who falls for an English Londoner. The problem is he and his friends have had a racist streak. At the same time her friend at work is unknowi...  \n",
              "1  What a clunker!<br /><br />It MUST have been made for TV or Cable.<br /><br />Look: forget the screenplay - forget the bunch of forgettable actors. Excuse me? Continuity? The NSA/NIA/whatever or whoever he is (an agent) takes-off in an F16 - is shown in an F18 chucking his guts up and, later, th...  \n",
              "2  This review has been written by someone who has read it (several times) and knows what they are talking about!. Firstly I have read others comments and noticed that some of the objections were really quite stupid. People who have read the book and other Jane Austens or for that matter any good b...  \n",
              "3  Ouch!! What a mess we have here. Not so much of a mess as a painfully dull, half-assed excuse for exploitation. Brought to you by the one and only, J. G. \"Pat\" Patterson, yeah, the same one from Moonshine Mountain. Doctor Gore, formerly known as The Body Shop, is, I guess, somewhat inspired by F...  \n",
              "4                        I am almost tempted to demand my money back from the video store. This movie plumbs the depths of inanity and is almost completely unwatchable. I NEVER bail out of a film early but this was painful to view. A thorough waste of celluloid. My vote 1/10 (it would have been zero).  "
            ]
          },
          "metadata": {},
          "execution_count": 30
        }
      ],
      "metadata": {}
    },
    {
      "cell_type": "markdown",
      "source": [
        "# Setup the project"
      ],
      "metadata": {}
    },
    {
      "cell_type": "code",
      "execution_count": 13,
      "source": [
        "toloka_client = toloka.TolokaClient(input(\"Enter your token:\"), 'PRODUCTION')"
      ],
      "outputs": [],
      "metadata": {
        "trusted": false
      }
    },
    {
      "cell_type": "markdown",
      "source": [
        "## Create project"
      ],
      "metadata": {}
    },
    {
      "cell_type": "code",
      "execution_count": 31,
      "source": [
        "project = toloka.Project(\n",
        "    public_name='Movie review classification',\n",
        "    public_description='Classify sentiment of movie reviews',\n",
        "    private_comment='OOTB: IMDb Movie Reviews'\n",
        ")"
      ],
      "outputs": [],
      "metadata": {
        "trusted": false
      }
    },
    {
      "cell_type": "code",
      "execution_count": 32,
      "source": [
        "input_specification = {'text': toloka.project.StringSpec()}\n",
        "output_specification = {'result': toloka.project.StringSpec()}"
      ],
      "outputs": [],
      "metadata": {
        "trusted": false
      }
    },
    {
      "cell_type": "code",
      "execution_count": 33,
      "source": [
        "text_viewer = tb.TextViewV1(tb.InputData('text'))\n",
        "\n",
        "radio_group_field = tb.ButtonRadioGroupFieldV1(\n",
        "    tb.OutputData('result'),\n",
        "    [\n",
        "        tb.GroupFieldOption('pos', '😃 Positive'),\n",
        "        tb.GroupFieldOption('neg', '😡 Negative'),\n",
        "    ],\n",
        "    label='What is the review sentiment?',\n",
        "    validation=tb.RequiredConditionV1(hint='You need to select one answer'),\n",
        ")\n",
        "\n",
        "task_width_plugin = tb.TolokaPluginV1(\n",
        "    layout=tb.TolokaPluginV1.TolokaPluginLayout(\n",
        "        kind='pager', \n",
        "        task_width=500,\n",
        "    )\n",
        ")\n",
        "\n",
        "hot_keys_plugin = tb.HotkeysPluginV1(\n",
        "    key_1=tb.SetActionV1(tb.OutputData('result'), 'pos'),\n",
        "    key_2=tb.SetActionV1(tb.OutputData('result'), 'neg'),\n",
        ")\n",
        "\n",
        "project_interface = toloka.project.TemplateBuilderViewSpec(\n",
        "    view=tb.ListViewV1([radio_group_field, text_viewer]),\n",
        "    plugins=[task_width_plugin, hot_keys_plugin],\n",
        ")\n",
        "\n",
        "project.task_spec = toloka.project.task_spec.TaskSpec(\n",
        "    input_spec=input_specification,\n",
        "    output_spec=output_specification,\n",
        "    view_spec=project_interface,\n",
        ")"
      ],
      "outputs": [],
      "metadata": {
        "trusted": false
      }
    },
    {
      "cell_type": "code",
      "execution_count": 34,
      "source": [
        "project.public_instructions = \"\"\"\n",
        "<h2>How to complete the task</h2>\n",
        "<ul>\n",
        "<li>1. Look at the movie review text.</li>\n",
        "<li>2. If it seems 😃 positive, assign the positive label. Otherwise assign the 😡 negative label.</li>\n",
        "<li>3. If you are unsure choose the label that seems most appropriate.</li>\n",
        "</ul>\n",
        "\n",
        "In case of problems send us a message. Good luck!\n",
        "\"\"\".strip()"
      ],
      "outputs": [],
      "metadata": {
        "trusted": false
      }
    },
    {
      "cell_type": "code",
      "execution_count": 35,
      "source": [
        "project = toloka_client.create_project(project)"
      ],
      "outputs": [
        {
          "output_type": "stream",
          "name": "stdout",
          "text": [
            "[INFO] toloka.client: A new project with ID \"61042\" has been created. Link to open in web interface: https://toloka.dev/requester/project/61042\n"
          ]
        }
      ],
      "metadata": {
        "trusted": false
      }
    },
    {
      "cell_type": "markdown",
      "source": [
        "## Create training tasks"
      ],
      "metadata": {}
    },
    {
      "cell_type": "code",
      "execution_count": 65,
      "source": [
        "training_pool = toloka.Training(\n",
        "    project_id=project.id,\n",
        "    private_name='Training pool',  \n",
        "    training_tasks_in_task_suite_count=5, \n",
        "    task_suites_required_to_pass=1,\n",
        "    may_contain_adult_content=False,\n",
        "    inherited_instructions=True,\n",
        "    assignment_max_duration_seconds=60*5,\n",
        "    retry_training_after_days=1,\n",
        "    mix_tasks_in_creation_order=True,\n",
        "    shuffle_tasks_in_task_suite=True,\n",
        ")"
      ],
      "outputs": [],
      "metadata": {
        "trusted": false
      }
    },
    {
      "cell_type": "code",
      "execution_count": 37,
      "source": [
        "training_pool = toloka_client.create_training(training_pool)"
      ],
      "outputs": [
        {
          "output_type": "stream",
          "name": "stdout",
          "text": [
            "[INFO] toloka.client: A new training with ID \"28288532\" has been created. Link to open in web interface: https://toloka.dev/requester/project/61042/training/28288532\n"
          ]
        }
      ],
      "metadata": {
        "trusted": false
      }
    },
    {
      "cell_type": "code",
      "execution_count": 38,
      "source": [
        "label_to_hint_map = {\n",
        "    'pos': 'Positive', \n",
        "    'neg': 'Negative',\n",
        "}\n",
        "\n",
        "\n",
        "tasks = []\n",
        "for l in ['pos', 'neg']: \n",
        "    examples = df_training[df_training.label == l]\n",
        "    \n",
        "    for ex_tuple in examples.itertuples():\n",
        "        tasks.append(\n",
        "            toloka.Task(\n",
        "                input_values={'text': ex_tuple.text}, \n",
        "                known_solutions=[toloka.task.BaseTask.KnownSolution(output_values={'result': ex_tuple.label})],   \n",
        "                message_on_unknown_solution=f'Incorrect label! The actual label is: {label_to_hint_map[ex_tuple.label]}',\n",
        "                infinite_overlap=True,\n",
        "                pool_id=training_pool.id,\n",
        "            )\n",
        "        )"
      ],
      "outputs": [],
      "metadata": {
        "trusted": false
      }
    },
    {
      "cell_type": "code",
      "execution_count": 39,
      "source": [
        "result = toloka_client.create_tasks(tasks, allow_defaults=True)\n",
        "print(len(result.items))"
      ],
      "outputs": [
        {
          "output_type": "stream",
          "name": "stdout",
          "text": [
            "10\n"
          ]
        }
      ],
      "metadata": {
        "trusted": false
      }
    },
    {
      "cell_type": "markdown",
      "source": [
        "## Create task Pool"
      ],
      "metadata": {}
    },
    {
      "cell_type": "code",
      "execution_count": 40,
      "source": [
        "pool = toloka.Pool(\n",
        "    project_id=project.id,\n",
        "    private_name='Pool',\n",
        "    may_contain_adult_content=False,\n",
        "    reward_per_assignment=0.02, \n",
        "    assignment_max_duration_seconds=60*5, \n",
        "    will_expire=datetime.datetime.utcnow() + datetime.timedelta(days=365), \n",
        "    filter=(\n",
        "        (toloka.filter.Languages.in_('EN')) &\n",
        "        (toloka.filter.ClientType == 'BROWSER')\n",
        "    ),\n",
        ")\n",
        "pool.defaults = toloka.pool.Pool.Defaults(\n",
        "    default_overlap_for_new_task_suites=5,\n",
        ")\n",
        "pool.set_mixer_config(\n",
        "    real_tasks_count=4,\n",
        "    golden_tasks_count=1,\n",
        ")"
      ],
      "outputs": [],
      "metadata": {
        "trusted": false
      }
    },
    {
      "cell_type": "code",
      "execution_count": 41,
      "source": [
        "pool.quality_control.training_requirement = toloka.quality_control.QualityControl.TrainingRequirement(\n",
        "    training_pool_id=training_pool.id, \n",
        "    training_passing_skill_value=50,\n",
        ")\n",
        "\n",
        "\n",
        "pool.quality_control.add_action(\n",
        "    collector=toloka.collectors.GoldenSet(\n",
        "        history_size=5,\n",
        "    ),\n",
        "    conditions=[\n",
        "        toloka.conditions.GoldenSetAnswersCount >= 5,\n",
        "        toloka.conditions.IncorrectAnswersRate >= 30,\n",
        "    ],\n",
        "    action=toloka.actions.RestrictionV2(\n",
        "        scope='PROJECT',\n",
        "        duration=1,\n",
        "        duration_unit='DAYS',\n",
        "        private_comment='Low quality of responses',\n",
        "    ),    \n",
        ")\n",
        "\n",
        "\n",
        "pool.quality_control.add_action(\n",
        "    collector=toloka.collectors.AssignmentSubmitTime(history_size=5, fast_submit_threshold_seconds=15),\n",
        "    conditions=[\n",
        "        toloka.conditions.TotalSubmittedCount >= 5,\n",
        "        toloka.conditions.FastSubmittedCount >= 3\n",
        "    ],\n",
        "    action=toloka.actions.RestrictionV2(\n",
        "        scope='PROJECT',\n",
        "        duration=1,\n",
        "        duration_unit='DAYS',\n",
        "        private_comment='Answering too fast',\n",
        "    ),    \n",
        ")\n",
        "\n",
        "pool.quality_control.add_action(\n",
        "    collector=toloka.collectors.SkippedInRowAssignments(),\n",
        "    conditions=[toloka.conditions.SkippedInRowCount >= 3],\n",
        "    action=toloka.actions.RestrictionV2(\n",
        "        scope=toloka.user_restriction.UserRestriction.PROJECT,\n",
        "        duration=1,\n",
        "        duration_unit='DAYS',\n",
        "        private_comment='Too many skipped assignments',\n",
        "    )\n",
        ")\n",
        "\n",
        "pool.quality_control.add_action(\n",
        "    collector=toloka.collectors.MajorityVote(\n",
        "        answer_threshold=4,\n",
        "        history_size=5,\n",
        "    ),\n",
        "    conditions=[\n",
        "        toloka.conditions.TotalAnswersCount >= 5,\n",
        "        toloka.conditions.IncorrectAnswersRate > 30,\n",
        "    ],\n",
        "    action=toloka.actions.RestrictionV2(\n",
        "        scope='PROJECT',\n",
        "        duration=1,\n",
        "        duration_unit='DAYS',\n",
        "        private_comment='Low quality responses',\n",
        "    ),    \n",
        ")"
      ],
      "outputs": [],
      "metadata": {
        "trusted": false
      }
    },
    {
      "cell_type": "code",
      "execution_count": 42,
      "source": [
        "pool = toloka_client.create_pool(pool)"
      ],
      "outputs": [
        {
          "output_type": "stream",
          "name": "stdout",
          "text": [
            "[INFO] toloka.client: A new pool with ID \"28288533\" has been created. Link to open in web interface: https://toloka.dev/requester/project/61042/pool/28288533\n"
          ]
        }
      ],
      "metadata": {
        "trusted": false
      }
    },
    {
      "cell_type": "markdown",
      "source": [
        "## Create control tasks"
      ],
      "metadata": {}
    },
    {
      "cell_type": "code",
      "execution_count": 43,
      "source": [
        "tasks = []\n",
        "for ex_tuple in df_control.itertuples():\n",
        "    tasks.append(\n",
        "        toloka.Task(\n",
        "            input_values={'text': ex_tuple.text}, \n",
        "            known_solutions=[toloka.task.BaseTask.KnownSolution(output_values={'result': ex_tuple.label})], \n",
        "            pool_id=pool.id,\n",
        "            infinite_overlap=True,\n",
        "        )\n",
        "    )"
      ],
      "outputs": [],
      "metadata": {
        "trusted": false
      }
    },
    {
      "cell_type": "code",
      "execution_count": 44,
      "source": [
        "result = toloka_client.create_tasks(tasks=tasks, allow_defaults=True)\n",
        "print(len(result.items))"
      ],
      "outputs": [
        {
          "output_type": "stream",
          "name": "stdout",
          "text": [
            "100\n"
          ]
        }
      ],
      "metadata": {
        "trusted": false
      }
    },
    {
      "cell_type": "markdown",
      "source": [
        "## Create tasks from dataset"
      ],
      "metadata": {}
    },
    {
      "cell_type": "code",
      "execution_count": 45,
      "source": [
        "tasks = []\n",
        "for ex_tuple in df.itertuples():\n",
        "    tasks.append(\n",
        "        toloka.Task(\n",
        "            input_values={'text': ex_tuple.text}, \n",
        "            pool_id=pool.id,\n",
        "        )\n",
        "    )\n",
        "result = toloka_client.create_tasks(tasks=tasks, allow_defaults=True)\n",
        "print(len(result.items))"
      ],
      "outputs": [
        {
          "output_type": "stream",
          "name": "stdout",
          "text": [
            "1000\n"
          ]
        }
      ],
      "metadata": {
        "trusted": false
      }
    },
    {
      "cell_type": "markdown",
      "source": [
        "# Start annotation"
      ],
      "metadata": {}
    },
    {
      "cell_type": "code",
      "execution_count": 46,
      "source": [
        "training_pool = toloka_client.open_pool(training_pool.id)\n",
        "pool = toloka_client.open_pool(pool.id)"
      ],
      "outputs": [],
      "metadata": {
        "trusted": false
      }
    },
    {
      "cell_type": "code",
      "execution_count": 47,
      "source": [
        "pool_id = pool.id\n",
        "\n",
        "def wait_pool_for_close(pool_id, minutes_to_wait=0.5):\n",
        "    sleep_time = 60 * minutes_to_wait\n",
        "    pool = toloka_client.get_pool(pool_id)\n",
        "    while not pool.is_closed():\n",
        "        op = toloka_client.get_analytics([toloka.analytics_request.CompletionPercentagePoolAnalytics(subject_id=pool.id)])\n",
        "        op = toloka_client.wait_operation(op)\n",
        "        percentage = op.details['value'][0]['result']['value']\n",
        "        print(\n",
        "            f'   {datetime.datetime.now().strftime(\"%H:%M:%S\")}\\t'\n",
        "            f'Pool {pool.id} - {percentage}%'\n",
        "        )\n",
        "        time.sleep(sleep_time)\n",
        "        pool = toloka_client.get_pool(pool.id)\n",
        "    print('Pool was closed.')\n",
        "\n",
        "wait_pool_for_close(pool_id)"
      ],
      "outputs": [
        {
          "output_type": "stream",
          "name": "stdout",
          "text": [
            "   12:37:03\tPool 28288533 - 0%\n",
            "   12:37:35\tPool 28288533 - 0%\n",
            "   12:38:07\tPool 28288533 - 0%\n",
            "   12:38:39\tPool 28288533 - 2%\n",
            "   12:39:12\tPool 28288533 - 4%\n",
            "   12:39:44\tPool 28288533 - 6%\n",
            "   12:40:16\tPool 28288533 - 7%\n",
            "   12:40:50\tPool 28288533 - 9%\n",
            "   12:41:22\tPool 28288533 - 10%\n",
            "   12:41:54\tPool 28288533 - 11%\n",
            "   12:42:26\tPool 28288533 - 13%\n",
            "   12:42:58\tPool 28288533 - 15%\n",
            "   12:43:31\tPool 28288533 - 17%\n",
            "   12:44:03\tPool 28288533 - 19%\n",
            "   12:44:37\tPool 28288533 - 21%\n",
            "   12:45:09\tPool 28288533 - 24%\n",
            "   12:45:41\tPool 28288533 - 27%\n",
            "   12:46:14\tPool 28288533 - 29%\n",
            "   12:46:46\tPool 28288533 - 32%\n",
            "   12:47:19\tPool 28288533 - 36%\n",
            "   12:47:51\tPool 28288533 - 40%\n",
            "   12:48:24\tPool 28288533 - 44%\n",
            "   12:48:56\tPool 28288533 - 47%\n",
            "   12:49:29\tPool 28288533 - 51%\n",
            "   12:50:01\tPool 28288533 - 54%\n",
            "   12:50:33\tPool 28288533 - 57%\n",
            "   12:51:06\tPool 28288533 - 61%\n",
            "   12:51:38\tPool 28288533 - 65%\n",
            "   12:52:12\tPool 28288533 - 70%\n",
            "   12:52:44\tPool 28288533 - 74%\n",
            "   12:53:17\tPool 28288533 - 78%\n",
            "   12:53:49\tPool 28288533 - 82%\n",
            "   12:54:21\tPool 28288533 - 86%\n",
            "   12:54:54\tPool 28288533 - 91%\n",
            "   12:55:26\tPool 28288533 - 93%\n",
            "   12:55:58\tPool 28288533 - 95%\n",
            "   12:56:31\tPool 28288533 - 97%\n",
            "   12:57:03\tPool 28288533 - 98%\n",
            "   12:57:36\tPool 28288533 - 98%\n",
            "   12:58:08\tPool 28288533 - 99%\n",
            "   12:58:41\tPool 28288533 - 99%\n",
            "   12:59:13\tPool 28288533 - 99%\n",
            "   12:59:45\tPool 28288533 - 99%\n",
            "   13:00:18\tPool 28288533 - 99%\n",
            "   13:00:52\tPool 28288533 - 99%\n",
            "   13:01:24\tPool 28288533 - 99%\n",
            "   13:01:57\tPool 28288533 - 99%\n",
            "   13:02:29\tPool 28288533 - 99%\n",
            "   13:03:01\tPool 28288533 - 99%\n",
            "   13:03:35\tPool 28288533 - 100%\n",
            "   13:04:07\tPool 28288533 - 100%\n",
            "Pool was closed.\n"
          ]
        }
      ],
      "metadata": {
        "trusted": false
      }
    },
    {
      "cell_type": "code",
      "execution_count": 48,
      "source": [
        "training_pool = toloka_client.close_pool(training_pool.id)"
      ],
      "outputs": [],
      "metadata": {}
    },
    {
      "cell_type": "markdown",
      "source": [
        "# Extract results"
      ],
      "metadata": {}
    },
    {
      "cell_type": "code",
      "execution_count": 60,
      "source": [
        "answers_df = toloka_client.get_assignments_df(pool.id, exclude_banned=True)\n",
        "answers_df = answers_df[answers_df['GOLDEN:result'].isnull()]\n",
        "answers_df = answers_df.rename(columns={\n",
        "    'INPUT:text': 'task',\n",
        "    'OUTPUT:result': 'label',\n",
        "    'ASSIGNMENT:worker_id': 'performer',\n",
        "})"
      ],
      "outputs": [
        {
          "output_type": "stream",
          "name": "stdout",
          "text": [
            "[WARNING] toloka.client: Experimental method\n"
          ]
        }
      ],
      "metadata": {
        "trusted": false
      }
    },
    {
      "cell_type": "markdown",
      "source": [
        "# Aggregate results"
      ],
      "metadata": {}
    },
    {
      "cell_type": "code",
      "execution_count": 61,
      "source": [
        "aggregated_answers = DawidSkene(n_iter=100).fit_predict(answers_df)\n",
        "aggregated_answers = aggregated_answers.reset_index()\n",
        "aggregated_answers.columns = ['text', 'pred_label']\n",
        "aggregated_answers = aggregated_answers.merge(df, on='text')\n",
        "aggregated_answers.head()"
      ],
      "outputs": [
        {
          "output_type": "execute_result",
          "data": {
            "text/html": [
              "<div>\n",
              "<style scoped>\n",
              "    .dataframe tbody tr th:only-of-type {\n",
              "        vertical-align: middle;\n",
              "    }\n",
              "\n",
              "    .dataframe tbody tr th {\n",
              "        vertical-align: top;\n",
              "    }\n",
              "\n",
              "    .dataframe thead th {\n",
              "        text-align: right;\n",
              "    }\n",
              "</style>\n",
              "<table border=\"1\" class=\"dataframe\">\n",
              "  <thead>\n",
              "    <tr style=\"text-align: right;\">\n",
              "      <th></th>\n",
              "      <th>text</th>\n",
              "      <th>pred_label</th>\n",
              "      <th>path</th>\n",
              "      <th>label</th>\n",
              "    </tr>\n",
              "  </thead>\n",
              "  <tbody>\n",
              "    <tr>\n",
              "      <th>0</th>\n",
              "      <td>I think that this short TV series, was absolutely wonderful, and gave both a in-depth and clear explanation of everything that was on the screen at the given time. This was by far David Attenborough at his best. I personally thought this was one of the best documentaries in the past decade. This...</td>\n",
              "      <td>pos</td>\n",
              "      <td>test/pos/3585_10.txt</td>\n",
              "      <td>pos</td>\n",
              "    </tr>\n",
              "    <tr>\n",
              "      <th>1</th>\n",
              "      <td>Kill the scream queen may sound like a good slasher flick but it is terribly boring and very dumb.&lt;br /&gt;&lt;br /&gt;Kill the scream queen is about a crazy filmmaker who auditions girls to be in his snuff film. He rapes and tortures them. This is trash that is not amusing, suspenseful or entertaining.T...</td>\n",
              "      <td>neg</td>\n",
              "      <td>test/neg/2817_1.txt</td>\n",
              "      <td>neg</td>\n",
              "    </tr>\n",
              "    <tr>\n",
              "      <th>2</th>\n",
              "      <td>Well, okay, maybe not perfect, but it was pretty close. This movie jumped from crime drama to romantic goofball comedy and back again so quickly all the way throughout that it seemed like two different movies that played simultaneously and then joined up again at the end. But they did it smoothl...</td>\n",
              "      <td>pos</td>\n",
              "      <td>test/pos/2847_8.txt</td>\n",
              "      <td>pos</td>\n",
              "    </tr>\n",
              "    <tr>\n",
              "      <th>3</th>\n",
              "      <td>Some movies want to make us think, some want to excite us, some want to exhilarate us. But sometimes, a movie wants only to make us laugh, and \"In &amp; Out\" certainly succeeds in this department.&lt;br /&gt;&lt;br /&gt;Indiana high-school teacher Howard Brackett (Kevin Kline) is going to be married to fellow t...</td>\n",
              "      <td>pos</td>\n",
              "      <td>test/pos/10922_8.txt</td>\n",
              "      <td>pos</td>\n",
              "    </tr>\n",
              "    <tr>\n",
              "      <th>4</th>\n",
              "      <td>In 1913, in Carlton Mine, Addytown, Pennsylvania, the cruel owner of a mine uses poor children in the exploration and after an explosion, a group of children is buried alive. On the present days, Karen Tunny (Lori Heuring) has just lost her husband after a long period of terminal disease when th...</td>\n",
              "      <td>neg</td>\n",
              "      <td>test/neg/1114_4.txt</td>\n",
              "      <td>neg</td>\n",
              "    </tr>\n",
              "  </tbody>\n",
              "</table>\n",
              "</div>"
            ],
            "text/plain": [
              "                                                                                                                                                                                                                                                                                                          text  \\\n",
              "0  I think that this short TV series, was absolutely wonderful, and gave both a in-depth and clear explanation of everything that was on the screen at the given time. This was by far David Attenborough at his best. I personally thought this was one of the best documentaries in the past decade. This...   \n",
              "1  Kill the scream queen may sound like a good slasher flick but it is terribly boring and very dumb.<br /><br />Kill the scream queen is about a crazy filmmaker who auditions girls to be in his snuff film. He rapes and tortures them. This is trash that is not amusing, suspenseful or entertaining.T...   \n",
              "2  Well, okay, maybe not perfect, but it was pretty close. This movie jumped from crime drama to romantic goofball comedy and back again so quickly all the way throughout that it seemed like two different movies that played simultaneously and then joined up again at the end. But they did it smoothl...   \n",
              "3  Some movies want to make us think, some want to excite us, some want to exhilarate us. But sometimes, a movie wants only to make us laugh, and \"In & Out\" certainly succeeds in this department.<br /><br />Indiana high-school teacher Howard Brackett (Kevin Kline) is going to be married to fellow t...   \n",
              "4  In 1913, in Carlton Mine, Addytown, Pennsylvania, the cruel owner of a mine uses poor children in the exploration and after an explosion, a group of children is buried alive. On the present days, Karen Tunny (Lori Heuring) has just lost her husband after a long period of terminal disease when th...   \n",
              "\n",
              "  pred_label                  path label  \n",
              "0        pos  test/pos/3585_10.txt   pos  \n",
              "1        neg   test/neg/2817_1.txt   neg  \n",
              "2        pos   test/pos/2847_8.txt   pos  \n",
              "3        pos  test/pos/10922_8.txt   pos  \n",
              "4        neg   test/neg/1114_4.txt   neg  "
            ]
          },
          "metadata": {},
          "execution_count": 61
        }
      ],
      "metadata": {}
    },
    {
      "cell_type": "markdown",
      "source": [
        "# View results"
      ],
      "metadata": {}
    },
    {
      "cell_type": "code",
      "execution_count": 62,
      "source": [
        "aggregated_answers[['text', 'pred_label', 'label']].sample(5).head()"
      ],
      "outputs": [
        {
          "output_type": "execute_result",
          "data": {
            "text/html": [
              "<div>\n",
              "<style scoped>\n",
              "    .dataframe tbody tr th:only-of-type {\n",
              "        vertical-align: middle;\n",
              "    }\n",
              "\n",
              "    .dataframe tbody tr th {\n",
              "        vertical-align: top;\n",
              "    }\n",
              "\n",
              "    .dataframe thead th {\n",
              "        text-align: right;\n",
              "    }\n",
              "</style>\n",
              "<table border=\"1\" class=\"dataframe\">\n",
              "  <thead>\n",
              "    <tr style=\"text-align: right;\">\n",
              "      <th></th>\n",
              "      <th>text</th>\n",
              "      <th>pred_label</th>\n",
              "      <th>label</th>\n",
              "    </tr>\n",
              "  </thead>\n",
              "  <tbody>\n",
              "    <tr>\n",
              "      <th>253</th>\n",
              "      <td>Don't ask me why I love this movie so much...Maybe it came at a time in my life I desperately wanted to fit in, maybe it is the amazing monster effects, maybe because I enjoyed the novel \"Cabal\", but It's probably because I LOVE Clive Barker. I think it's fair to warn you the movie and the novel...</td>\n",
              "      <td>pos</td>\n",
              "      <td>pos</td>\n",
              "    </tr>\n",
              "    <tr>\n",
              "      <th>22</th>\n",
              "      <td>With a name like \"10 Commandments\" you would expect a film to be representative of the account in the Bible, specifically Exodus. Not so here. This is standard procedure with any Biblical Hallmark-made film. Remember \"Noah\"?? That was utter fiction and one of the worst films ever made. At least ...</td>\n",
              "      <td>neg</td>\n",
              "      <td>neg</td>\n",
              "    </tr>\n",
              "    <tr>\n",
              "      <th>852</th>\n",
              "      <td>I've seen some bad things in my time. A half dead cow trying to get out of waist high mud; a head on collision between two cars; a thousand plates smashing on a kitchen floor; human beings living like animals.&lt;br /&gt;&lt;br /&gt;But never in my life have I seen anything as bad as The Cat in the Hat.&lt;br ...</td>\n",
              "      <td>neg</td>\n",
              "      <td>neg</td>\n",
              "    </tr>\n",
              "    <tr>\n",
              "      <th>298</th>\n",
              "      <td>Talk about being boring!&lt;br /&gt;&lt;br /&gt;I got this expecting a fascinating insight into the life of the man who wrote the mythical Night on the Galactic Railroad. I expected to see crazy stories and hijinks of an eccentric man and to discover his inspirations for such bizarre material. Boy, was I wr...</td>\n",
              "      <td>pos</td>\n",
              "      <td>neg</td>\n",
              "    </tr>\n",
              "    <tr>\n",
              "      <th>864</th>\n",
              "      <td>This Blake Edwards film isn't too sure whether it wants to be a comedy, a drama or a musical. No matter, the sheer presence of Julie Andrews, is reason enough to see this comedy-drama-musical-spy spoof. Julie is beautiful and uses her many talents, throughout the film. Rock Hudson looks tired, b...</td>\n",
              "      <td>pos</td>\n",
              "      <td>pos</td>\n",
              "    </tr>\n",
              "  </tbody>\n",
              "</table>\n",
              "</div>"
            ],
            "text/plain": [
              "                                                                                                                                                                                                                                                                                                            text  \\\n",
              "253  Don't ask me why I love this movie so much...Maybe it came at a time in my life I desperately wanted to fit in, maybe it is the amazing monster effects, maybe because I enjoyed the novel \"Cabal\", but It's probably because I LOVE Clive Barker. I think it's fair to warn you the movie and the novel...   \n",
              "22   With a name like \"10 Commandments\" you would expect a film to be representative of the account in the Bible, specifically Exodus. Not so here. This is standard procedure with any Biblical Hallmark-made film. Remember \"Noah\"?? That was utter fiction and one of the worst films ever made. At least ...   \n",
              "852  I've seen some bad things in my time. A half dead cow trying to get out of waist high mud; a head on collision between two cars; a thousand plates smashing on a kitchen floor; human beings living like animals.<br /><br />But never in my life have I seen anything as bad as The Cat in the Hat.<br ...   \n",
              "298  Talk about being boring!<br /><br />I got this expecting a fascinating insight into the life of the man who wrote the mythical Night on the Galactic Railroad. I expected to see crazy stories and hijinks of an eccentric man and to discover his inspirations for such bizarre material. Boy, was I wr...   \n",
              "864  This Blake Edwards film isn't too sure whether it wants to be a comedy, a drama or a musical. No matter, the sheer presence of Julie Andrews, is reason enough to see this comedy-drama-musical-spy spoof. Julie is beautiful and uses her many talents, throughout the film. Rock Hudson looks tired, b...   \n",
              "\n",
              "    pred_label label  \n",
              "253        pos   pos  \n",
              "22         neg   neg  \n",
              "852        neg   neg  \n",
              "298        pos   neg  \n",
              "864        pos   pos  "
            ]
          },
          "metadata": {},
          "execution_count": 62
        }
      ],
      "metadata": {}
    },
    {
      "cell_type": "markdown",
      "source": [
        "# View errors"
      ],
      "metadata": {}
    },
    {
      "cell_type": "code",
      "execution_count": 63,
      "source": [
        "aggregated_answers[aggregated_answers.pred_label != aggregated_answers.label][['text', 'pred_label', 'label']].sample(5).head()"
      ],
      "outputs": [
        {
          "output_type": "execute_result",
          "data": {
            "text/html": [
              "<div>\n",
              "<style scoped>\n",
              "    .dataframe tbody tr th:only-of-type {\n",
              "        vertical-align: middle;\n",
              "    }\n",
              "\n",
              "    .dataframe tbody tr th {\n",
              "        vertical-align: top;\n",
              "    }\n",
              "\n",
              "    .dataframe thead th {\n",
              "        text-align: right;\n",
              "    }\n",
              "</style>\n",
              "<table border=\"1\" class=\"dataframe\">\n",
              "  <thead>\n",
              "    <tr style=\"text-align: right;\">\n",
              "      <th></th>\n",
              "      <th>text</th>\n",
              "      <th>pred_label</th>\n",
              "      <th>label</th>\n",
              "    </tr>\n",
              "  </thead>\n",
              "  <tbody>\n",
              "    <tr>\n",
              "      <th>755</th>\n",
              "      <td>The only reason I watched this movie a second time, was to learn the name of the \"second banana\" girl playing opposite Katie Holms. Her name is Marisa Coughlan. Never heard of her before. She is lovely. Captivating. With an animated face, and cute bod, she is highly watchable... She's got real, ...</td>\n",
              "      <td>pos</td>\n",
              "      <td>neg</td>\n",
              "    </tr>\n",
              "    <tr>\n",
              "      <th>608</th>\n",
              "      <td>It was inferred by a previous poster that the military would not be subordinate to the police in a disaster as depicted in the film. In fact the military role would be to supply aid to the civil authorities when requested to do so. The civil authorities would retain primacy. In practise the Army...</td>\n",
              "      <td>pos</td>\n",
              "      <td>neg</td>\n",
              "    </tr>\n",
              "    <tr>\n",
              "      <th>598</th>\n",
              "      <td>On paper this looks a good film . Michael Caine plays a tough and ruthless boxing promoter who's son is up for a title eliminator . The pity is that when the story is transferred from paper to my television screen it loses a certain everything . I had hoped we'd be seen emulating his definitive ...</td>\n",
              "      <td>pos</td>\n",
              "      <td>neg</td>\n",
              "    </tr>\n",
              "    <tr>\n",
              "      <th>609</th>\n",
              "      <td>Young Warriors (1983) &lt;br /&gt;&lt;br /&gt;While this is a deeply flawed (and in some ways idiotic) movie, the way it continually defies expectations makes it decent viewing for the adventurous sleaze fan.&lt;br /&gt;&lt;br /&gt;Meet yuppie college student Kevin and his gang of lovable frat boy buddies. In what star...</td>\n",
              "      <td>neg</td>\n",
              "      <td>pos</td>\n",
              "    </tr>\n",
              "    <tr>\n",
              "      <th>759</th>\n",
              "      <td>I have recently gone to the movie theatres to see the new (2007) version of Bridge to Teribithia. After, I went to the library to rent the older version to see it again without paying again. I must say that I was extremely disappointed! I found the older version to have horrible acting as well a...</td>\n",
              "      <td>pos</td>\n",
              "      <td>neg</td>\n",
              "    </tr>\n",
              "  </tbody>\n",
              "</table>\n",
              "</div>"
            ],
            "text/plain": [
              "                                                                                                                                                                                                                                                                                                            text  \\\n",
              "755  The only reason I watched this movie a second time, was to learn the name of the \"second banana\" girl playing opposite Katie Holms. Her name is Marisa Coughlan. Never heard of her before. She is lovely. Captivating. With an animated face, and cute bod, she is highly watchable... She's got real, ...   \n",
              "608  It was inferred by a previous poster that the military would not be subordinate to the police in a disaster as depicted in the film. In fact the military role would be to supply aid to the civil authorities when requested to do so. The civil authorities would retain primacy. In practise the Army...   \n",
              "598  On paper this looks a good film . Michael Caine plays a tough and ruthless boxing promoter who's son is up for a title eliminator . The pity is that when the story is transferred from paper to my television screen it loses a certain everything . I had hoped we'd be seen emulating his definitive ...   \n",
              "609  Young Warriors (1983) <br /><br />While this is a deeply flawed (and in some ways idiotic) movie, the way it continually defies expectations makes it decent viewing for the adventurous sleaze fan.<br /><br />Meet yuppie college student Kevin and his gang of lovable frat boy buddies. In what star...   \n",
              "759  I have recently gone to the movie theatres to see the new (2007) version of Bridge to Teribithia. After, I went to the library to rent the older version to see it again without paying again. I must say that I was extremely disappointed! I found the older version to have horrible acting as well a...   \n",
              "\n",
              "    pred_label label  \n",
              "755        pos   neg  \n",
              "608        pos   neg  \n",
              "598        pos   neg  \n",
              "609        neg   pos  \n",
              "759        pos   neg  "
            ]
          },
          "metadata": {},
          "execution_count": 63
        }
      ],
      "metadata": {}
    },
    {
      "cell_type": "markdown",
      "source": [
        "# Obtain accuracy"
      ],
      "metadata": {}
    },
    {
      "cell_type": "code",
      "execution_count": 64,
      "source": [
        "accuracy = balanced_accuracy_score(aggregated_answers.label, aggregated_answers.pred_label)\n",
        "print(f'Accuracy: {accuracy:.2f}')\n",
        "print(f'Error: {1-accuracy:.2f}')"
      ],
      "outputs": [
        {
          "output_type": "stream",
          "name": "stdout",
          "text": [
            "Accuracy: 0.89\n",
            "Error: 0.11\n"
          ]
        }
      ],
      "metadata": {}
    }
  ],
  "metadata": {
    "jupytercloud": {
      "share": {
        "history": [
          {
            "link": "https://a.yandex-team.ru/arc/trunk/arcadia/junk/btseytlin/jupyter/ootb/oottb_image_classification.ipynb?rev=8548703",
            "path": "junk/btseytlin/jupyter/ootb/oottb_image_classification.ipynb",
            "success": true,
            "timestamp": 1629718035338
          },
          {
            "link": "https://a.yandex-team.ru/arc/trunk/arcadia/junk/btseytlin/jupyter/ootb/oottb_image_classification.ipynb?rev=8560593",
            "path": "junk/btseytlin/jupyter/ootb/oottb_image_classification.ipynb",
            "success": true,
            "timestamp": 1629970369047
          },
          {
            "link": "https://a.yandex-team.ru/arc/trunk/arcadia/junk/btseytlin/jupyter/ootb/oottb_image_classification.ipynb?rev=8561371",
            "path": "junk/btseytlin/jupyter/ootb/oottb_image_classification.ipynb",
            "success": true,
            "timestamp": 1629978932609
          },
          {
            "link": "https://a.yandex-team.ru/arc/trunk/arcadia/junk/btseytlin/jupyter/ootb/oottb_text_classification.ipynb?rev=8565052",
            "path": "junk/btseytlin/jupyter/ootb/oottb_text_classification.ipynb",
            "success": true,
            "timestamp": 1630057712069
          }
        ]
      }
    },
    "kernelspec": {
      "name": "python3",
      "display_name": "Python 3.9.6 64-bit"
    },
    "language_info": {
      "codemirror_mode": {
        "name": "ipython",
        "version": 3
      },
      "file_extension": ".py",
      "mimetype": "text/x-python",
      "name": "python",
      "nbconvert_exporter": "python",
      "pygments_lexer": "ipython3",
      "version": "3.9.6"
    },
    "interpreter": {
      "hash": "aee8b7b246df8f9039afb4144a1f6fd8d2ca17a180786b69acc140d282b71a49"
    }
  },
  "nbformat": 4,
  "nbformat_minor": 5
}